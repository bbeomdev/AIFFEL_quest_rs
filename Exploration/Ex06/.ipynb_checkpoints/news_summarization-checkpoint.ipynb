{
 "cells": [
  {
   "cell_type": "code",
   "execution_count": 1,
   "metadata": {
    "colab": {
     "base_uri": "https://localhost:8080/"
    },
    "id": "sM04oUeizNJc",
    "outputId": "58b37f36-335c-46f5-dddb-a1d9e484ae27"
   },
   "outputs": [],
   "source": [
    "# ! pip install summa"
   ]
  },
  {
   "cell_type": "code",
   "execution_count": 4,
   "metadata": {
    "colab": {
     "base_uri": "https://localhost:8080/"
    },
    "id": "k3e03z7Uy8z1",
    "outputId": "c5782cb3-c18f-4910-dd98-bb3093097555"
   },
   "outputs": [
    {
     "name": "stdout",
     "output_type": "stream",
     "text": [
      "3.6.5\n",
      "2.6.0\n",
      "1.3.3\n",
      "1.2.0\n"
     ]
    }
   ],
   "source": [
    "from importlib.metadata import version\n",
    "import nltk\n",
    "import tensorflow\n",
    "import summa\n",
    "import pandas as pd\n",
    "\n",
    "print(nltk.__version__)\n",
    "print(tensorflow.__version__)\n",
    "print(pd.__version__)\n",
    "print(version('summa'))"
   ]
  },
  {
   "cell_type": "code",
   "execution_count": 5,
   "metadata": {
    "colab": {
     "base_uri": "https://localhost:8080/"
    },
    "id": "shz3hnt9zGEm",
    "outputId": "d085e28c-9eff-4bb0-f5e1-4d6bd7293df9"
   },
   "outputs": [
    {
     "name": "stderr",
     "output_type": "stream",
     "text": [
      "[nltk_data] Downloading package stopwords to /aiffel/nltk_data...\n",
      "[nltk_data]   Package stopwords is already up-to-date!\n"
     ]
    }
   ],
   "source": [
    "import nltk\n",
    "nltk.download('stopwords')\n",
    "\n",
    "import numpy as np\n",
    "import pandas as pd\n",
    "import os\n",
    "import re\n",
    "import matplotlib.pyplot as plt\n",
    "from nltk.corpus import stopwords\n",
    "from bs4 import BeautifulSoup\n",
    "from tensorflow.keras.preprocessing.text import Tokenizer\n",
    "from tensorflow.keras.preprocessing.sequence import pad_sequences\n",
    "import urllib.request\n",
    "import warnings\n",
    "warnings.filterwarnings(\"ignore\", category=UserWarning, module='bs4')"
   ]
  },
  {
   "cell_type": "code",
   "execution_count": 6,
   "metadata": {
    "id": "vBcXIcj7zGLt"
   },
   "outputs": [],
   "source": [
    "import urllib.request\n",
    "urllib.request.urlretrieve(\"https://raw.githubusercontent.com/sunnysai12345/News_Summary/master/news_summary_more.csv\", filename=\"news_summary_more.csv\")\n",
    "data = pd.read_csv('news_summary_more.csv', encoding='iso-8859-1')"
   ]
  },
  {
   "cell_type": "code",
   "execution_count": 7,
   "metadata": {
    "colab": {
     "base_uri": "https://localhost:8080/",
     "height": 380
    },
    "id": "aZJrY0r8z9KJ",
    "outputId": "e74f0466-189d-4caa-c699-1da59cbdce43"
   },
   "outputs": [
    {
     "name": "stdout",
     "output_type": "stream",
     "text": [
      "98401\n"
     ]
    },
    {
     "data": {
      "text/html": [
       "<div>\n",
       "<style scoped>\n",
       "    .dataframe tbody tr th:only-of-type {\n",
       "        vertical-align: middle;\n",
       "    }\n",
       "\n",
       "    .dataframe tbody tr th {\n",
       "        vertical-align: top;\n",
       "    }\n",
       "\n",
       "    .dataframe thead th {\n",
       "        text-align: right;\n",
       "    }\n",
       "</style>\n",
       "<table border=\"1\" class=\"dataframe\">\n",
       "  <thead>\n",
       "    <tr style=\"text-align: right;\">\n",
       "      <th></th>\n",
       "      <th>headlines</th>\n",
       "      <th>text</th>\n",
       "    </tr>\n",
       "  </thead>\n",
       "  <tbody>\n",
       "    <tr>\n",
       "      <th>26972</th>\n",
       "      <td>64 killed, 44 missing as torrential rain hits ...</td>\n",
       "      <td>At least 64 people have been killed and 44 oth...</td>\n",
       "    </tr>\n",
       "    <tr>\n",
       "      <th>51889</th>\n",
       "      <td>Sculptor pledges $1mn 'Jewish Nobel Prize' to ...</td>\n",
       "      <td>British-Indian sculptor Anish Kapoor has pledg...</td>\n",
       "    </tr>\n",
       "    <tr>\n",
       "      <th>93187</th>\n",
       "      <td>When born, my 1st son looked like you: SRK tel...</td>\n",
       "      <td>Shah Rukh Khan has said that when his first so...</td>\n",
       "    </tr>\n",
       "    <tr>\n",
       "      <th>22100</th>\n",
       "      <td>Dhawan always being made the scapegoat: Sunil ...</td>\n",
       "      <td>Following Shikhar Dhawan's exclusion from Team...</td>\n",
       "    </tr>\n",
       "    <tr>\n",
       "      <th>6205</th>\n",
       "      <td>Sri Lankan PM Rajapaksa to step down amid poli...</td>\n",
       "      <td>Sri Lanka's Mahinda Rajapaksa will resign from...</td>\n",
       "    </tr>\n",
       "    <tr>\n",
       "      <th>23511</th>\n",
       "      <td>American football player retires at 24 after 6...</td>\n",
       "      <td>An American football player has retired aged j...</td>\n",
       "    </tr>\n",
       "    <tr>\n",
       "      <th>3483</th>\n",
       "      <td>Aus captain Paine answers journalist's phone a...</td>\n",
       "      <td>Australia captain Tim Paine answered a journal...</td>\n",
       "    </tr>\n",
       "    <tr>\n",
       "      <th>67996</th>\n",
       "      <td>LG launches Ã¢ÂÂ¹7,990 smartphone with mosqui...</td>\n",
       "      <td>South Korean electronics company LG has launch...</td>\n",
       "    </tr>\n",
       "    <tr>\n",
       "      <th>14034</th>\n",
       "      <td>Odisha orders evacuation of areas ahead of cyc...</td>\n",
       "      <td>Odisha government has ordered an immediate eva...</td>\n",
       "    </tr>\n",
       "    <tr>\n",
       "      <th>53829</th>\n",
       "      <td>North Korea successfully defended US pressure:...</td>\n",
       "      <td>Kerala CM Pinarayi Vijayan has said that North...</td>\n",
       "    </tr>\n",
       "  </tbody>\n",
       "</table>\n",
       "</div>"
      ],
      "text/plain": [
       "                                               headlines  \\\n",
       "26972  64 killed, 44 missing as torrential rain hits ...   \n",
       "51889  Sculptor pledges $1mn 'Jewish Nobel Prize' to ...   \n",
       "93187  When born, my 1st son looked like you: SRK tel...   \n",
       "22100  Dhawan always being made the scapegoat: Sunil ...   \n",
       "6205   Sri Lankan PM Rajapaksa to step down amid poli...   \n",
       "23511  American football player retires at 24 after 6...   \n",
       "3483   Aus captain Paine answers journalist's phone a...   \n",
       "67996  LG launches Ã¢ÂÂ¹7,990 smartphone with mosqui...   \n",
       "14034  Odisha orders evacuation of areas ahead of cyc...   \n",
       "53829  North Korea successfully defended US pressure:...   \n",
       "\n",
       "                                                    text  \n",
       "26972  At least 64 people have been killed and 44 oth...  \n",
       "51889  British-Indian sculptor Anish Kapoor has pledg...  \n",
       "93187  Shah Rukh Khan has said that when his first so...  \n",
       "22100  Following Shikhar Dhawan's exclusion from Team...  \n",
       "6205   Sri Lanka's Mahinda Rajapaksa will resign from...  \n",
       "23511  An American football player has retired aged j...  \n",
       "3483   Australia captain Tim Paine answered a journal...  \n",
       "67996  South Korean electronics company LG has launch...  \n",
       "14034  Odisha government has ordered an immediate eva...  \n",
       "53829  Kerala CM Pinarayi Vijayan has said that North...  "
      ]
     },
     "execution_count": 7,
     "metadata": {},
     "output_type": "execute_result"
    }
   ],
   "source": [
    "print(len(data))\n",
    "data.sample(10)"
   ]
  },
  {
   "cell_type": "code",
   "execution_count": 8,
   "metadata": {
    "colab": {
     "base_uri": "https://localhost:8080/",
     "height": 1000
    },
    "id": "m8RCgdXfzGPM",
    "outputId": "d0f101ca-4a7e-4ff9-a4bf-e8e8d7e3edf9"
   },
   "outputs": [
    {
     "data": {
      "text/html": [
       "<div>\n",
       "<style scoped>\n",
       "    .dataframe tbody tr th:only-of-type {\n",
       "        vertical-align: middle;\n",
       "    }\n",
       "\n",
       "    .dataframe tbody tr th {\n",
       "        vertical-align: top;\n",
       "    }\n",
       "\n",
       "    .dataframe thead th {\n",
       "        text-align: right;\n",
       "    }\n",
       "</style>\n",
       "<table border=\"1\" class=\"dataframe\">\n",
       "  <thead>\n",
       "    <tr style=\"text-align: right;\">\n",
       "      <th></th>\n",
       "      <th>headlines</th>\n",
       "      <th>text</th>\n",
       "    </tr>\n",
       "  </thead>\n",
       "  <tbody>\n",
       "    <tr>\n",
       "      <th>20754</th>\n",
       "      <td>Aegon Life iTerm offers long-term care with en...</td>\n",
       "      <td>Safeguard yourself against life's unpleasant s...</td>\n",
       "    </tr>\n",
       "    <tr>\n",
       "      <th>44594</th>\n",
       "      <td>Berger introduces T20 of painting with Express...</td>\n",
       "      <td>Berger Paints has launched Berger Express Pain...</td>\n",
       "    </tr>\n",
       "    <tr>\n",
       "      <th>51012</th>\n",
       "      <td>Longest Test innings was longer than 10 footba...</td>\n",
       "      <td>Former Pakistani cricketer Hanif Mohammad batt...</td>\n",
       "    </tr>\n",
       "    <tr>\n",
       "      <th>52021</th>\n",
       "      <td>Aus bowler took hat-trick in his 3rd ODI, neve...</td>\n",
       "      <td>Australia's Anthony Stuart took a hat-trick in...</td>\n",
       "    </tr>\n",
       "    <tr>\n",
       "      <th>53578</th>\n",
       "      <td>Lara named daughter after Sydney where he hit ...</td>\n",
       "      <td>Former Windies' captain Brian Lara named his f...</td>\n",
       "    </tr>\n",
       "    <tr>\n",
       "      <th>53731</th>\n",
       "      <td>Captain once dropped himself, replacement brok...</td>\n",
       "      <td>England captain Mike Denness left himself out ...</td>\n",
       "    </tr>\n",
       "    <tr>\n",
       "      <th>53865</th>\n",
       "      <td>Bradman once hit 270 at no 7 after reversing b...</td>\n",
       "      <td>Cricket legend Don Bradman reversed the Austra...</td>\n",
       "    </tr>\n",
       "    <tr>\n",
       "      <th>53892</th>\n",
       "      <td>Schumacher got kart license aged 12 from anoth...</td>\n",
       "      <td>German Formula One legend Michael Schumacher, ...</td>\n",
       "    </tr>\n",
       "    <tr>\n",
       "      <th>54078</th>\n",
       "      <td>Warne gave 150 runs, took only Shastri's wkt o...</td>\n",
       "      <td>Former Australian leg-spinner Shane Warne was ...</td>\n",
       "    </tr>\n",
       "    <tr>\n",
       "      <th>55208</th>\n",
       "      <td>Fans once threw pig's head at Madrid player in...</td>\n",
       "      <td>During an El ClÃÂ¡sico match in 2002, Barcelo...</td>\n",
       "    </tr>\n",
       "    <tr>\n",
       "      <th>55374</th>\n",
       "      <td>India marks National Mathematics Day in memory...</td>\n",
       "      <td>National Mathematics Day is celebrated on Dece...</td>\n",
       "    </tr>\n",
       "    <tr>\n",
       "      <th>57402</th>\n",
       "      <td>Sehwag's 219 is the highest score by a captain...</td>\n",
       "      <td>Virender Sehwag was captaining India when he h...</td>\n",
       "    </tr>\n",
       "    <tr>\n",
       "      <th>58715</th>\n",
       "      <td>1st-ever int'l football match was played on a ...</td>\n",
       "      <td>The first-ever official international football...</td>\n",
       "    </tr>\n",
       "    <tr>\n",
       "      <th>58769</th>\n",
       "      <td>Indian bowler once took 2 hat-tricks in a sing...</td>\n",
       "      <td>Former Services' medium-pacer Joginder Rao pic...</td>\n",
       "    </tr>\n",
       "    <tr>\n",
       "      <th>58934</th>\n",
       "      <td>Player once won Man of the Match without batti...</td>\n",
       "      <td>Windies' Gus Logie was adjudged Man of the Mat...</td>\n",
       "    </tr>\n",
       "    <tr>\n",
       "      <th>59705</th>\n",
       "      <td>Why is England-Australia Test series called 'T...</td>\n",
       "      <td>England was beaten at home for the first time ...</td>\n",
       "    </tr>\n",
       "    <tr>\n",
       "      <th>60724</th>\n",
       "      <td>Sachin's debut was not telecast in India due t...</td>\n",
       "      <td>The Test in which Sachin Tendulkar made his in...</td>\n",
       "    </tr>\n",
       "    <tr>\n",
       "      <th>60885</th>\n",
       "      <td>Who is the cricketer with longest known surnam...</td>\n",
       "      <td>Fijian cricketer Ilikena Lasarusa Talebulamain...</td>\n",
       "    </tr>\n",
       "    <tr>\n",
       "      <th>61055</th>\n",
       "      <td>Tests' 1st catch and 1st wicket were taken by ...</td>\n",
       "      <td>The first wicket and first catch in Test crick...</td>\n",
       "    </tr>\n",
       "    <tr>\n",
       "      <th>61445</th>\n",
       "      <td>Out of McGrath's 563 Test dismissals, 104 were...</td>\n",
       "      <td>Former Australian fast bowler Glenn McGrath, w...</td>\n",
       "    </tr>\n",
       "    <tr>\n",
       "      <th>62063</th>\n",
       "      <td>An ODI was once played in the middle of a Test...</td>\n",
       "      <td>Zimbabwe played an ODI against New Zealand in ...</td>\n",
       "    </tr>\n",
       "    <tr>\n",
       "      <th>62575</th>\n",
       "      <td>Virat Kohli took a wicket on the 0th ball of h...</td>\n",
       "      <td>Virat Kohli dismissed England's Kevin Pieterse...</td>\n",
       "    </tr>\n",
       "    <tr>\n",
       "      <th>62639</th>\n",
       "      <td>Sachin crossed 17,000 ODI runs during 175-run ...</td>\n",
       "      <td>Former batsman Sachin Tendulkar became the fir...</td>\n",
       "    </tr>\n",
       "    <tr>\n",
       "      <th>62785</th>\n",
       "      <td>India once conceded ODI vs Pak in protest agai...</td>\n",
       "      <td>India conceded an ODI against Pakistan on Nove...</td>\n",
       "    </tr>\n",
       "    <tr>\n",
       "      <th>63533</th>\n",
       "      <td>Bhabha convinced PM Nehru to start India's nuc...</td>\n",
       "      <td>Born on October 30, 1909, Padma Bhushan-awarde...</td>\n",
       "    </tr>\n",
       "    <tr>\n",
       "      <th>64468</th>\n",
       "      <td>WeWork offers collaborative co-working space f...</td>\n",
       "      <td>WeWork is a platform for creators, which provi...</td>\n",
       "    </tr>\n",
       "    <tr>\n",
       "      <th>69673</th>\n",
       "      <td>3 pairs of brothers once played for the same t...</td>\n",
       "      <td>The New Zealand-Zimbabwe Test, which started o...</td>\n",
       "    </tr>\n",
       "    <tr>\n",
       "      <th>70249</th>\n",
       "      <td>Inzamam once attacked fan with bat for calling...</td>\n",
       "      <td>Former Pakistan captain Inzamam-ul-Haq attacke...</td>\n",
       "    </tr>\n",
       "    <tr>\n",
       "      <th>70392</th>\n",
       "      <td>Warne rightly predicted India-Eng 2011 WC matc...</td>\n",
       "      <td>Before India-England 2011 World Cup match, for...</td>\n",
       "    </tr>\n",
       "    <tr>\n",
       "      <th>71887</th>\n",
       "      <td>Eng players once flew planes over stadium duri...</td>\n",
       "      <td>Former England players David Gower and John Mo...</td>\n",
       "    </tr>\n",
       "    <tr>\n",
       "      <th>74095</th>\n",
       "      <td>A solar eclipse once proved Einstein right, Ne...</td>\n",
       "      <td>English astronomer Arthur Eddington used 1919'...</td>\n",
       "    </tr>\n",
       "    <tr>\n",
       "      <th>75349</th>\n",
       "      <td>Bradman averaged 101.39 before last Test, ende...</td>\n",
       "      <td>Legendary Australian batsman Donald Bradman ha...</td>\n",
       "    </tr>\n",
       "    <tr>\n",
       "      <th>78244</th>\n",
       "      <td>1st player to hit 6 sixes in 1 over was born w...</td>\n",
       "      <td>Former Windies' cricketer Garry Sobers, the fi...</td>\n",
       "    </tr>\n",
       "    <tr>\n",
       "      <th>78519</th>\n",
       "      <td>SBI left banking data of millions of users unp...</td>\n",
       "      <td>A TechCrunch report has claimed that IndiaÃ¢Â...</td>\n",
       "    </tr>\n",
       "    <tr>\n",
       "      <th>78521</th>\n",
       "      <td>CARS24 enables car owners to sell their cars i...</td>\n",
       "      <td>CARS24 has enabled car owners to sell their ca...</td>\n",
       "    </tr>\n",
       "    <tr>\n",
       "      <th>78522</th>\n",
       "      <td>Reebok launches FlexWeave technology in its la...</td>\n",
       "      <td>Reebok has launched FlexweaveÃ¢ÂÂan innovati...</td>\n",
       "    </tr>\n",
       "    <tr>\n",
       "      <th>80355</th>\n",
       "      <td>Over 54,000 balls are used at Wimbledon every ...</td>\n",
       "      <td>As many as 54,250 fluorescent-yellow tennis ba...</td>\n",
       "    </tr>\n",
       "    <tr>\n",
       "      <th>81352</th>\n",
       "      <td>Nikola Tesla once worked for his arch rival Th...</td>\n",
       "      <td>Born on July 10, 1856, Serbian inventor Nikola...</td>\n",
       "    </tr>\n",
       "    <tr>\n",
       "      <th>84195</th>\n",
       "      <td>Northern Hemisphere witnesses longest day of t...</td>\n",
       "      <td>June 21 marks the beginning of summer in Earth...</td>\n",
       "    </tr>\n",
       "    <tr>\n",
       "      <th>84724</th>\n",
       "      <td>Australia won the 1999 World Cup after a tied ...</td>\n",
       "      <td>Australia won the 1999 Cricket World Cup after...</td>\n",
       "    </tr>\n",
       "    <tr>\n",
       "      <th>86430</th>\n",
       "      <td>Warne produced 'ball of century' with his 1st ...</td>\n",
       "      <td>Legendary Australian spinner Shane Warne bowle...</td>\n",
       "    </tr>\n",
       "  </tbody>\n",
       "</table>\n",
       "</div>"
      ],
      "text/plain": [
       "                                               headlines  \\\n",
       "20754  Aegon Life iTerm offers long-term care with en...   \n",
       "44594  Berger introduces T20 of painting with Express...   \n",
       "51012  Longest Test innings was longer than 10 footba...   \n",
       "52021  Aus bowler took hat-trick in his 3rd ODI, neve...   \n",
       "53578  Lara named daughter after Sydney where he hit ...   \n",
       "53731  Captain once dropped himself, replacement brok...   \n",
       "53865  Bradman once hit 270 at no 7 after reversing b...   \n",
       "53892  Schumacher got kart license aged 12 from anoth...   \n",
       "54078  Warne gave 150 runs, took only Shastri's wkt o...   \n",
       "55208  Fans once threw pig's head at Madrid player in...   \n",
       "55374  India marks National Mathematics Day in memory...   \n",
       "57402  Sehwag's 219 is the highest score by a captain...   \n",
       "58715  1st-ever int'l football match was played on a ...   \n",
       "58769  Indian bowler once took 2 hat-tricks in a sing...   \n",
       "58934  Player once won Man of the Match without batti...   \n",
       "59705  Why is England-Australia Test series called 'T...   \n",
       "60724  Sachin's debut was not telecast in India due t...   \n",
       "60885  Who is the cricketer with longest known surnam...   \n",
       "61055  Tests' 1st catch and 1st wicket were taken by ...   \n",
       "61445  Out of McGrath's 563 Test dismissals, 104 were...   \n",
       "62063  An ODI was once played in the middle of a Test...   \n",
       "62575  Virat Kohli took a wicket on the 0th ball of h...   \n",
       "62639  Sachin crossed 17,000 ODI runs during 175-run ...   \n",
       "62785  India once conceded ODI vs Pak in protest agai...   \n",
       "63533  Bhabha convinced PM Nehru to start India's nuc...   \n",
       "64468  WeWork offers collaborative co-working space f...   \n",
       "69673  3 pairs of brothers once played for the same t...   \n",
       "70249  Inzamam once attacked fan with bat for calling...   \n",
       "70392  Warne rightly predicted India-Eng 2011 WC matc...   \n",
       "71887  Eng players once flew planes over stadium duri...   \n",
       "74095  A solar eclipse once proved Einstein right, Ne...   \n",
       "75349  Bradman averaged 101.39 before last Test, ende...   \n",
       "78244  1st player to hit 6 sixes in 1 over was born w...   \n",
       "78519  SBI left banking data of millions of users unp...   \n",
       "78521  CARS24 enables car owners to sell their cars i...   \n",
       "78522  Reebok launches FlexWeave technology in its la...   \n",
       "80355  Over 54,000 balls are used at Wimbledon every ...   \n",
       "81352  Nikola Tesla once worked for his arch rival Th...   \n",
       "84195  Northern Hemisphere witnesses longest day of t...   \n",
       "84724  Australia won the 1999 World Cup after a tied ...   \n",
       "86430  Warne produced 'ball of century' with his 1st ...   \n",
       "\n",
       "                                                    text  \n",
       "20754  Safeguard yourself against life's unpleasant s...  \n",
       "44594  Berger Paints has launched Berger Express Pain...  \n",
       "51012  Former Pakistani cricketer Hanif Mohammad batt...  \n",
       "52021  Australia's Anthony Stuart took a hat-trick in...  \n",
       "53578  Former Windies' captain Brian Lara named his f...  \n",
       "53731  England captain Mike Denness left himself out ...  \n",
       "53865  Cricket legend Don Bradman reversed the Austra...  \n",
       "53892  German Formula One legend Michael Schumacher, ...  \n",
       "54078  Former Australian leg-spinner Shane Warne was ...  \n",
       "55208  During an El ClÃÂ¡sico match in 2002, Barcelo...  \n",
       "55374  National Mathematics Day is celebrated on Dece...  \n",
       "57402  Virender Sehwag was captaining India when he h...  \n",
       "58715  The first-ever official international football...  \n",
       "58769  Former Services' medium-pacer Joginder Rao pic...  \n",
       "58934  Windies' Gus Logie was adjudged Man of the Mat...  \n",
       "59705  England was beaten at home for the first time ...  \n",
       "60724  The Test in which Sachin Tendulkar made his in...  \n",
       "60885  Fijian cricketer Ilikena Lasarusa Talebulamain...  \n",
       "61055  The first wicket and first catch in Test crick...  \n",
       "61445  Former Australian fast bowler Glenn McGrath, w...  \n",
       "62063  Zimbabwe played an ODI against New Zealand in ...  \n",
       "62575  Virat Kohli dismissed England's Kevin Pieterse...  \n",
       "62639  Former batsman Sachin Tendulkar became the fir...  \n",
       "62785  India conceded an ODI against Pakistan on Nove...  \n",
       "63533  Born on October 30, 1909, Padma Bhushan-awarde...  \n",
       "64468  WeWork is a platform for creators, which provi...  \n",
       "69673  The New Zealand-Zimbabwe Test, which started o...  \n",
       "70249  Former Pakistan captain Inzamam-ul-Haq attacke...  \n",
       "70392  Before India-England 2011 World Cup match, for...  \n",
       "71887  Former England players David Gower and John Mo...  \n",
       "74095  English astronomer Arthur Eddington used 1919'...  \n",
       "75349  Legendary Australian batsman Donald Bradman ha...  \n",
       "78244  Former Windies' cricketer Garry Sobers, the fi...  \n",
       "78519  A TechCrunch report has claimed that IndiaÃ¢Â...  \n",
       "78521  CARS24 has enabled car owners to sell their ca...  \n",
       "78522  Reebok has launched FlexweaveÃ¢ÂÂan innovati...  \n",
       "80355  As many as 54,250 fluorescent-yellow tennis ba...  \n",
       "81352  Born on July 10, 1856, Serbian inventor Nikola...  \n",
       "84195  June 21 marks the beginning of summer in Earth...  \n",
       "84724  Australia won the 1999 Cricket World Cup after...  \n",
       "86430  Legendary Australian spinner Shane Warne bowle...  "
      ]
     },
     "execution_count": 8,
     "metadata": {},
     "output_type": "execute_result"
    }
   ],
   "source": [
    "data[data['text'].duplicated()] # text의 중복 확인"
   ]
  },
  {
   "cell_type": "code",
   "execution_count": 9,
   "metadata": {
    "colab": {
     "base_uri": "https://localhost:8080/"
    },
    "id": "Mx2h3aoi0AqG",
    "outputId": "340f98ad-3e61-4028-ab08-a24fd1f9acc4"
   },
   "outputs": [
    {
     "data": {
      "text/plain": [
       "98360"
      ]
     },
     "execution_count": 9,
     "metadata": {},
     "output_type": "execute_result"
    }
   ],
   "source": [
    "data.drop_duplicates(subset = ['text'], inplace= True)\n",
    "len(data)"
   ]
  },
  {
   "cell_type": "code",
   "execution_count": 10,
   "metadata": {
    "colab": {
     "base_uri": "https://localhost:8080/",
     "height": 147
    },
    "id": "vCGwWBfUzTXo",
    "outputId": "4879450b-f468-45a2-ee83-3b1542f0e093"
   },
   "outputs": [
    {
     "data": {
      "text/plain": [
       "headlines    0\n",
       "text         0\n",
       "dtype: int64"
      ]
     },
     "execution_count": 10,
     "metadata": {},
     "output_type": "execute_result"
    }
   ],
   "source": [
    "data.isnull().sum()"
   ]
  },
  {
   "cell_type": "code",
   "execution_count": 11,
   "metadata": {
    "colab": {
     "base_uri": "https://localhost:8080/"
    },
    "id": "3VLDShlCz4-s",
    "outputId": "d6a53eda-a901-4ffe-899e-58e4074198f9"
   },
   "outputs": [
    {
     "name": "stdout",
     "output_type": "stream",
     "text": [
      "정규화 사전의 수:  120\n"
     ]
    }
   ],
   "source": [
    "# 텍스트 정규화하는 사전\n",
    "contractions = {\"ain't\": \"is not\", \"aren't\": \"are not\",\"can't\": \"cannot\", \"'cause\": \"because\", \"could've\": \"could have\", \"couldn't\": \"could not\",\n",
    "                           \"didn't\": \"did not\",  \"doesn't\": \"does not\", \"don't\": \"do not\", \"hadn't\": \"had not\", \"hasn't\": \"has not\", \"haven't\": \"have not\",\n",
    "                           \"he'd\": \"he would\",\"he'll\": \"he will\", \"he's\": \"he is\", \"how'd\": \"how did\", \"how'd'y\": \"how do you\", \"how'll\": \"how will\", \"how's\": \"how is\",\n",
    "                           \"I'd\": \"I would\", \"I'd've\": \"I would have\", \"I'll\": \"I will\", \"I'll've\": \"I will have\",\"I'm\": \"I am\", \"I've\": \"I have\", \"i'd\": \"i would\",\n",
    "                           \"i'd've\": \"i would have\", \"i'll\": \"i will\",  \"i'll've\": \"i will have\",\"i'm\": \"i am\", \"i've\": \"i have\", \"isn't\": \"is not\", \"it'd\": \"it would\",\n",
    "                           \"it'd've\": \"it would have\", \"it'll\": \"it will\", \"it'll've\": \"it will have\",\"it's\": \"it is\", \"let's\": \"let us\", \"ma'am\": \"madam\",\n",
    "                           \"mayn't\": \"may not\", \"might've\": \"might have\",\"mightn't\": \"might not\",\"mightn't've\": \"might not have\", \"must've\": \"must have\",\n",
    "                           \"mustn't\": \"must not\", \"mustn't've\": \"must not have\", \"needn't\": \"need not\", \"needn't've\": \"need not have\",\"o'clock\": \"of the clock\",\n",
    "                           \"oughtn't\": \"ought not\", \"oughtn't've\": \"ought not have\", \"shan't\": \"shall not\", \"sha'n't\": \"shall not\", \"shan't've\": \"shall not have\",\n",
    "                           \"she'd\": \"she would\", \"she'd've\": \"she would have\", \"she'll\": \"she will\", \"she'll've\": \"she will have\", \"she's\": \"she is\",\n",
    "                           \"should've\": \"should have\", \"shouldn't\": \"should not\", \"shouldn't've\": \"should not have\", \"so've\": \"so have\",\"so's\": \"so as\",\n",
    "                           \"this's\": \"this is\",\"that'd\": \"that would\", \"that'd've\": \"that would have\", \"that's\": \"that is\", \"there'd\": \"there would\",\n",
    "                           \"there'd've\": \"there would have\", \"there's\": \"there is\", \"here's\": \"here is\",\"they'd\": \"they would\", \"they'd've\": \"they would have\",\n",
    "                           \"they'll\": \"they will\", \"they'll've\": \"they will have\", \"they're\": \"they are\", \"they've\": \"they have\", \"to've\": \"to have\",\n",
    "                           \"wasn't\": \"was not\", \"we'd\": \"we would\", \"we'd've\": \"we would have\", \"we'll\": \"we will\", \"we'll've\": \"we will have\", \"we're\": \"we are\",\n",
    "                           \"we've\": \"we have\", \"weren't\": \"were not\", \"what'll\": \"what will\", \"what'll've\": \"what will have\", \"what're\": \"what are\",\n",
    "                           \"what's\": \"what is\", \"what've\": \"what have\", \"when's\": \"when is\", \"when've\": \"when have\", \"where'd\": \"where did\", \"where's\": \"where is\",\n",
    "                           \"where've\": \"where have\", \"who'll\": \"who will\", \"who'll've\": \"who will have\", \"who's\": \"who is\", \"who've\": \"who have\",\n",
    "                           \"why's\": \"why is\", \"why've\": \"why have\", \"will've\": \"will have\", \"won't\": \"will not\", \"won't've\": \"will not have\",\n",
    "                           \"would've\": \"would have\", \"wouldn't\": \"would not\", \"wouldn't've\": \"would not have\", \"y'all\": \"you all\",\n",
    "                           \"y'all'd\": \"you all would\",\"y'all'd've\": \"you all would have\",\"y'all're\": \"you all are\",\"y'all've\": \"you all have\",\n",
    "                           \"you'd\": \"you would\", \"you'd've\": \"you would have\", \"you'll\": \"you will\", \"you'll've\": \"you will have\",\n",
    "                           \"you're\": \"you are\", \"you've\": \"you have\"}\n",
    "\n",
    "print(\"정규화 사전의 수: \", len(contractions))"
   ]
  },
  {
   "cell_type": "code",
   "execution_count": 12,
   "metadata": {
    "colab": {
     "base_uri": "https://localhost:8080/"
    },
    "id": "1cT97uuQzMfi",
    "outputId": "d0f36a57-42cc-4dcd-da22-e26d0c3d9752"
   },
   "outputs": [
    {
     "name": "stdout",
     "output_type": "stream",
     "text": [
      "불용어 개수 : 198\n",
      "['a', 'about', 'above', 'after', 'again', 'against', 'ain', 'all', 'am', 'an', 'and', 'any', 'are', 'aren', \"aren't\", 'as', 'at', 'be', 'because', 'been', 'before', 'being', 'below', 'between', 'both', 'but', 'by', 'can', 'couldn', \"couldn't\", 'd', 'did', 'didn', \"didn't\", 'do', 'does', 'doesn', \"doesn't\", 'doing', 'don', \"don't\", 'down', 'during', 'each', 'few', 'for', 'from', 'further', 'had', 'hadn', \"hadn't\", 'has', 'hasn', \"hasn't\", 'have', 'haven', \"haven't\", 'having', 'he', \"he'd\", \"he'll\", 'her', 'here', 'hers', 'herself', \"he's\", 'him', 'himself', 'his', 'how', 'i', \"i'd\", 'if', \"i'll\", \"i'm\", 'in', 'into', 'is', 'isn', \"isn't\", 'it', \"it'd\", \"it'll\", \"it's\", 'its', 'itself', \"i've\", 'just', 'll', 'm', 'ma', 'me', 'mightn', \"mightn't\", 'more', 'most', 'mustn', \"mustn't\", 'my', 'myself', 'needn', \"needn't\", 'no', 'nor', 'not', 'now', 'o', 'of', 'off', 'on', 'once', 'only', 'or', 'other', 'our', 'ours', 'ourselves', 'out', 'over', 'own', 're', 's', 'same', 'shan', \"shan't\", 'she', \"she'd\", \"she'll\", \"she's\", 'should', 'shouldn', \"shouldn't\", \"should've\", 'so', 'some', 'such', 't', 'than', 'that', \"that'll\", 'the', 'their', 'theirs', 'them', 'themselves', 'then', 'there', 'these', 'they', \"they'd\", \"they'll\", \"they're\", \"they've\", 'this', 'those', 'through', 'to', 'too', 'under', 'until', 'up', 've', 'very', 'was', 'wasn', \"wasn't\", 'we', \"we'd\", \"we'll\", \"we're\", 'were', 'weren', \"weren't\", \"we've\", 'what', 'when', 'where', 'which', 'while', 'who', 'whom', 'why', 'will', 'with', 'won', \"won't\", 'wouldn', \"wouldn't\", 'y', 'you', \"you'd\", \"you'll\", 'your', \"you're\", 'yours', 'yourself', 'yourselves', \"you've\"]\n"
     ]
    }
   ],
   "source": [
    "# 불용어 제거하는 사전\n",
    "print('불용어 개수 :', len(stopwords.words('english') ))\n",
    "print(stopwords.words('english'))"
   ]
  },
  {
   "cell_type": "code",
   "execution_count": 13,
   "metadata": {
    "id": "pljj19j60FTx"
   },
   "outputs": [],
   "source": [
    "# 데이터 전처리 함수\n",
    "def preprocess_sentence(sentence, remove_stopwords=True):\n",
    "    sentence = sentence.lower() # 텍스트 소문자화\n",
    "    sentence = BeautifulSoup(sentence, \"lxml\").text # <br />, <a href = ...> 등의 html 태그 제거\n",
    "    sentence = re.sub(r'\\([^)]*\\)', '', sentence) # 괄호로 닫힌 문자열 (...) 제거 Ex) my husband (and myself!) for => my husband for\n",
    "    sentence = re.sub('\"','', sentence) # 쌍따옴표 \" 제거\n",
    "    sentence = ' '.join([contractions[t] if t in contractions else t for t in sentence.split(\" \")]) # 약어 정규화\n",
    "    sentence = re.sub(r\"'s\\b\",\"\", sentence) # 소유격 제거. Ex) roland's -> roland\n",
    "    sentence = re.sub(\"[^a-zA-Z]\", \" \", sentence) # 영어 외 문자(숫자, 특수문자 등) 공백으로 변환\n",
    "    sentence = re.sub('[m]{2,}', 'mm', sentence) # m이 3개 이상이면 2개로 변경. Ex) ummmmmmm yeah -> umm yeah\n",
    "\n",
    "    # 불용어 제거 (Text)\n",
    "    if remove_stopwords:\n",
    "        tokens = ' '.join(word for word in sentence.split() if not word in stopwords.words('english') if len(word) > 1)\n",
    "    # 불용어 미제거 (Summary)\n",
    "    else:\n",
    "        tokens = ' '.join(word for word in sentence.split() if len(word) > 1)\n",
    "    return tokens"
   ]
  },
  {
   "cell_type": "code",
   "execution_count": 14,
   "metadata": {
    "colab": {
     "base_uri": "https://localhost:8080/"
    },
    "id": "rXz2Iyjm0FXD",
    "outputId": "7e164b5d-704a-43d2-d5da-d6d99f7eb77d"
   },
   "outputs": [
    {
     "name": "stdout",
     "output_type": "stream",
     "text": [
      "The world's largest private spirits business, Bacardi, has said it will buy tequila maker PatrÃÂ³n in a $5.1 billion deal. Bacardi, which makes Grey Goose Vodka and Bacardi Rum, already owns 30% of PatrÃÂ³n as part of a 2008 deal. PatrÃÂ³n Co-founder John Paul DeJoria, estimated to be worth $3.4 billion, will sell his 70% stake in the company. \n"
     ]
    }
   ],
   "source": [
    "sample_text = data['text'].sample(1).iloc[0]\n",
    "print(sample_text)"
   ]
  },
  {
   "cell_type": "code",
   "execution_count": 15,
   "metadata": {
    "colab": {
     "base_uri": "https://localhost:8080/",
     "height": 53
    },
    "id": "zM8f8qkG0FaA",
    "outputId": "bc1343d6-959f-4c38-a931-712861744993"
   },
   "outputs": [
    {
     "data": {
      "text/plain": [
       "'world largest private spirits business bacardi said buy tequila maker patr billion deal bacardi makes grey goose vodka bacardi rum already owns patr part deal patr co founder john paul dejoria estimated worth billion sell stake company'"
      ]
     },
     "execution_count": 15,
     "metadata": {},
     "output_type": "execute_result"
    }
   ],
   "source": [
    "preprocess_sentence(sample_text) # 대문자, \"\" 등 제거"
   ]
  },
  {
   "cell_type": "code",
   "execution_count": null,
   "metadata": {
    "id": "sFVtcAq00FdC"
   },
   "outputs": [],
   "source": [
    "# text_temp = []\n",
    "# for i, te in enumerate(data['text']):\n",
    "#     print(i)\n",
    "#     text_temp.append(preprocess_sentence(te))"
   ]
  },
  {
   "cell_type": "code",
   "execution_count": null,
   "metadata": {
    "id": "QhB0hMBE0Ffw"
   },
   "outputs": [],
   "source": [
    "# headlines_temp = []\n",
    "# for i, te in enumerate(data['headlines']):\n",
    "#     print(i)\n",
    "#     headlines_temp.append(preprocess_sentence(te, remove_stopwords=False)) # 요약본은 불용어 제거 안 함"
   ]
  },
  {
   "cell_type": "code",
   "execution_count": null,
   "metadata": {
    "id": "yulfWaUp0Fik"
   },
   "outputs": [],
   "source": [
    "# data['headlines'] = headlines_temp\n",
    "# data['text'] = text_temp"
   ]
  },
  {
   "cell_type": "code",
   "execution_count": null,
   "metadata": {
    "id": "jCaX5pY20e9T"
   },
   "outputs": [],
   "source": [
    "# data.to_csv('data_temp.csv')"
   ]
  },
  {
   "cell_type": "code",
   "execution_count": 16,
   "metadata": {
    "id": "JihbbpKE0gWm"
   },
   "outputs": [],
   "source": [
    "data = pd.read_csv('data_temp.csv', index_col=0)"
   ]
  },
  {
   "cell_type": "code",
   "execution_count": 17,
   "metadata": {
    "id": "1WVMv8HK0bry"
   },
   "outputs": [],
   "source": [
    "data.replace('', np.nan, inplace = True) # ' ' 빈 값 nan으로"
   ]
  },
  {
   "cell_type": "code",
   "execution_count": 18,
   "metadata": {
    "colab": {
     "base_uri": "https://localhost:8080/",
     "height": 147
    },
    "id": "7yMPR55x0bwg",
    "outputId": "a9e9b57e-16e5-4f27-f07a-dd7c07e3bf3a"
   },
   "outputs": [
    {
     "data": {
      "text/plain": [
       "headlines    0\n",
       "text         0\n",
       "dtype: int64"
      ]
     },
     "execution_count": 18,
     "metadata": {},
     "output_type": "execute_result"
    }
   ],
   "source": [
    "data.isnull().sum()"
   ]
  },
  {
   "cell_type": "code",
   "execution_count": 19,
   "metadata": {
    "id": "KAOt22dH0byB"
   },
   "outputs": [],
   "source": [
    "data.dropna(axis=0, inplace=True) # headlines랑 text 중에 1개라도 비어있는 값 있으면 그 행을 날림"
   ]
  },
  {
   "cell_type": "code",
   "execution_count": 20,
   "metadata": {
    "colab": {
     "base_uri": "https://localhost:8080/",
     "height": 1000
    },
    "id": "z8kc01El0VG_",
    "outputId": "191b24af-4116-47b0-8630-1d5caed0726d"
   },
   "outputs": [
    {
     "name": "stdout",
     "output_type": "stream",
     "text": [
      "텍스트의 최소 길이 : 1\n",
      "텍스트의 최대 길이 : 60\n",
      "텍스트의 평균 길이 : 35.09968483123221\n",
      "텍스트 길이 표준편차 : 3.7993861876499637\n",
      "요약의 최소 길이 : 1\n",
      "요약의 최대 길이 : 16\n",
      "요약의 평균 길이 : 9.299532330215534\n",
      "요약길이 표준편차 : 1.3900944321771693\n"
     ]
    },
    {
     "data": {
      "image/png": "[encoded data removed]",
      "text/plain": [
       "<Figure size 432x288 with 2 Axes>"
      ]
     },
     "metadata": {
      "needs_background": "light"
     },
     "output_type": "display_data"
    },
    {
     "data": {
      "image/png": "[encoded data removed]",
      "text/plain": [
       "<Figure size 432x288 with 1 Axes>"
      ]
     },
     "metadata": {
      "needs_background": "light"
     },
     "output_type": "display_data"
    },
    {
     "data": {
      "image/png": "[encoded data removed]",
      "text/plain": [
       "<Figure size 432x288 with 1 Axes>"
      ]
     },
     "metadata": {
      "needs_background": "light"
     },
     "output_type": "display_data"
    }
   ],
   "source": [
    "# 길이 분포 출력\n",
    "import matplotlib.pyplot as plt\n",
    "\n",
    "text_len = [len(s.split()) for s in data['text']]\n",
    "summary_len = [len(s.split()) for s in data['headlines']]\n",
    "\n",
    "print('텍스트의 최소 길이 : {}'.format(np.min(text_len)))\n",
    "print('텍스트의 최대 길이 : {}'.format(np.max(text_len)))\n",
    "print('텍스트의 평균 길이 : {}'.format(np.mean(text_len)))\n",
    "print('텍스트 길이 표준편차 : {}'.format(np.std(text_len)))\n",
    "\n",
    "print('요약의 최소 길이 : {}'.format(np.min(summary_len)))\n",
    "print('요약의 최대 길이 : {}'.format(np.max(summary_len)))\n",
    "print('요약의 평균 길이 : {}'.format(np.mean(summary_len)))\n",
    "print('요약길이 표준편차 : {}'.format(np.std(summary_len)))\n",
    "\n",
    "plt.subplot(1,2,1)\n",
    "plt.boxplot(text_len)\n",
    "plt.title('Text')\n",
    "plt.subplot(1,2,2)\n",
    "plt.boxplot(summary_len)\n",
    "plt.title('Summary')\n",
    "plt.tight_layout()\n",
    "plt.show()\n",
    "\n",
    "plt.title('Text')\n",
    "plt.hist(text_len, bins = 40)\n",
    "plt.xlabel('length of samples')\n",
    "plt.ylabel('number of samples')\n",
    "plt.show()\n",
    "\n",
    "plt.title('Summary')\n",
    "plt.hist(summary_len, bins = 40)\n",
    "plt.xlabel('length of samples')\n",
    "plt.ylabel('number of samples')\n",
    "plt.show()"
   ]
  },
  {
   "cell_type": "code",
   "execution_count": 21,
   "metadata": {
    "id": "u1-KpGFj0Fln"
   },
   "outputs": [],
   "source": [
    "# 평균 + 2표준편차 안에 들어가는 샘플 비율\n",
    "def below_threshold_len(mean_len, std, nested_list):\n",
    "  cnt = 0\n",
    "  for s in nested_list:\n",
    "    if(len(s.split()) <= mean_len + 2 * std):\n",
    "        cnt = cnt + 1\n",
    "  print('전체 샘플 중 길이가 %s 이하인 샘플의 비율: %s'%(mean_len + 2 * std, (cnt / len(nested_list))))"
   ]
  },
  {
   "cell_type": "code",
   "execution_count": 22,
   "metadata": {
    "colab": {
     "base_uri": "https://localhost:8080/"
    },
    "id": "EWNOyyG6zxZZ",
    "outputId": "dec98b3c-9e2e-497c-b2f5-60d32bd25a91"
   },
   "outputs": [
    {
     "name": "stdout",
     "output_type": "stream",
     "text": [
      "전체 샘플 중 길이가 42.58 이하인 샘플의 비율: 0.9750305002033347\n",
      "전체 샘플 중 길이가 12.069999999999999 이하인 샘플의 비율: 0.9880337535583571\n"
     ]
    }
   ],
   "source": [
    "below_threshold_len(35, 3.79, data['text'])\n",
    "below_threshold_len(9.29, 1.39,  data['headlines'])"
   ]
  },
  {
   "cell_type": "code",
   "execution_count": 23,
   "metadata": {
    "id": "prtSTXdGzoUj"
   },
   "outputs": [],
   "source": [
    "text_cut = 43\n",
    "headlines_cut = 12"
   ]
  },
  {
   "cell_type": "code",
   "execution_count": 24,
   "metadata": {
    "id": "jPHOgtf04p7X"
   },
   "outputs": [],
   "source": [
    "data = data[data.apply(lambda x: len(x['headlines'].split()) <= headlines_cut and len(x['text'].split()) <= text_cut, axis=1)]"
   ]
  },
  {
   "cell_type": "code",
   "execution_count": 25,
   "metadata": {
    "colab": {
     "base_uri": "https://localhost:8080/",
     "height": 397
    },
    "id": "H9OLgTjRzobN",
    "outputId": "ff852f9d-8b87-4c8b-961c-f7e0fd05a8a5"
   },
   "outputs": [
    {
     "data": {
      "text/html": [
       "<div>\n",
       "<style scoped>\n",
       "    .dataframe tbody tr th:only-of-type {\n",
       "        vertical-align: middle;\n",
       "    }\n",
       "\n",
       "    .dataframe tbody tr th {\n",
       "        vertical-align: top;\n",
       "    }\n",
       "\n",
       "    .dataframe thead th {\n",
       "        text-align: right;\n",
       "    }\n",
       "</style>\n",
       "<table border=\"1\" class=\"dataframe\">\n",
       "  <thead>\n",
       "    <tr style=\"text-align: right;\">\n",
       "      <th></th>\n",
       "      <th>headlines</th>\n",
       "      <th>text</th>\n",
       "      <th>decoder_input</th>\n",
       "      <th>decoder_target</th>\n",
       "    </tr>\n",
       "  </thead>\n",
       "  <tbody>\n",
       "    <tr>\n",
       "      <th>0</th>\n",
       "      <td>upgrad learner switches to career in ml al wit...</td>\n",
       "      <td>saurav kant alumnus upgrad iiit pg program mac...</td>\n",
       "      <td>sostoken upgrad learner switches to career in ...</td>\n",
       "      <td>upgrad learner switches to career in ml al wit...</td>\n",
       "    </tr>\n",
       "    <tr>\n",
       "      <th>2</th>\n",
       "      <td>new zealand end rohit sharma led india match w...</td>\n",
       "      <td>new zealand defeated india wickets fourth odi ...</td>\n",
       "      <td>sostoken new zealand end rohit sharma led indi...</td>\n",
       "      <td>new zealand end rohit sharma led india match w...</td>\n",
       "    </tr>\n",
       "    <tr>\n",
       "      <th>3</th>\n",
       "      <td>aegon life iterm insurance plan helps customer...</td>\n",
       "      <td>aegon life iterm insurance plan customers enjo...</td>\n",
       "      <td>sostoken aegon life iterm insurance plan helps...</td>\n",
       "      <td>aegon life iterm insurance plan helps customer...</td>\n",
       "    </tr>\n",
       "    <tr>\n",
       "      <th>5</th>\n",
       "      <td>rahat fateh ali khan denies getting notice for...</td>\n",
       "      <td>pakistani singer rahat fateh ali khan denied r...</td>\n",
       "      <td>sostoken rahat fateh ali khan denies getting n...</td>\n",
       "      <td>rahat fateh ali khan denies getting notice for...</td>\n",
       "    </tr>\n",
       "    <tr>\n",
       "      <th>6</th>\n",
       "      <td>india get all out for their lowest odi total i...</td>\n",
       "      <td>india recorded lowest odi total new zealand ge...</td>\n",
       "      <td>sostoken india get all out for their lowest od...</td>\n",
       "      <td>india get all out for their lowest odi total i...</td>\n",
       "    </tr>\n",
       "  </tbody>\n",
       "</table>\n",
       "</div>"
      ],
      "text/plain": [
       "                                           headlines  \\\n",
       "0  upgrad learner switches to career in ml al wit...   \n",
       "2  new zealand end rohit sharma led india match w...   \n",
       "3  aegon life iterm insurance plan helps customer...   \n",
       "5  rahat fateh ali khan denies getting notice for...   \n",
       "6  india get all out for their lowest odi total i...   \n",
       "\n",
       "                                                text  \\\n",
       "0  saurav kant alumnus upgrad iiit pg program mac...   \n",
       "2  new zealand defeated india wickets fourth odi ...   \n",
       "3  aegon life iterm insurance plan customers enjo...   \n",
       "5  pakistani singer rahat fateh ali khan denied r...   \n",
       "6  india recorded lowest odi total new zealand ge...   \n",
       "\n",
       "                                       decoder_input  \\\n",
       "0  sostoken upgrad learner switches to career in ...   \n",
       "2  sostoken new zealand end rohit sharma led indi...   \n",
       "3  sostoken aegon life iterm insurance plan helps...   \n",
       "5  sostoken rahat fateh ali khan denies getting n...   \n",
       "6  sostoken india get all out for their lowest od...   \n",
       "\n",
       "                                      decoder_target  \n",
       "0  upgrad learner switches to career in ml al wit...  \n",
       "2  new zealand end rohit sharma led india match w...  \n",
       "3  aegon life iterm insurance plan helps customer...  \n",
       "5  rahat fateh ali khan denies getting notice for...  \n",
       "6  india get all out for their lowest odi total i...  "
      ]
     },
     "execution_count": 25,
     "metadata": {},
     "output_type": "execute_result"
    }
   ],
   "source": [
    "data['decoder_input'] = data['headlines'].apply(lambda x : 'sostoken '+ x) # 인풋 문장의 시작에 sostoken 추가\n",
    "data['decoder_target'] = data['headlines'].apply(lambda x : x + ' eostoken') # 타겟 문장의 끝에 eostoken 추가\n",
    "data.head()"
   ]
  },
  {
   "cell_type": "code",
   "execution_count": 26,
   "metadata": {
    "id": "vG-dQ1s2zoeT"
   },
   "outputs": [],
   "source": [
    "encoder_input = np.array(data['text']) # 인코더의 입력\n",
    "decoder_input = np.array(data['decoder_input']) # 디코더의 입력\n",
    "decoder_target = np.array(data['decoder_target']) # 디코더의 레이블"
   ]
  },
  {
   "cell_type": "code",
   "execution_count": 27,
   "metadata": {
    "colab": {
     "base_uri": "https://localhost:8080/"
    },
    "id": "PiEIfKAM6ehH",
    "outputId": "3fa53f81-f7be-44db-d68d-ccc825ffd1b6"
   },
   "outputs": [
    {
     "name": "stdout",
     "output_type": "stream",
     "text": [
      "[75275 23182 24920 ... 45263 30203 26636]\n"
     ]
    }
   ],
   "source": [
    "indices = np.arange(encoder_input.shape[0])\n",
    "np.random.shuffle(indices) # 인코더 인덱스를 랜덤 셔플\n",
    "print(indices)"
   ]
  },
  {
   "cell_type": "code",
   "execution_count": 28,
   "metadata": {
    "id": "aaOaWHtL6ekf"
   },
   "outputs": [],
   "source": [
    "# 랜덤한 인덱스로 데이터가 셔플됨\n",
    "encoder_input = encoder_input[indices]\n",
    "decoder_input = decoder_input[indices]\n",
    "decoder_target = decoder_target[indices]"
   ]
  },
  {
   "cell_type": "code",
   "execution_count": 29,
   "metadata": {
    "colab": {
     "base_uri": "https://localhost:8080/"
    },
    "id": "1X0XtGmv6enJ",
    "outputId": "af404db8-fa94-4429-f3e8-4d3f3f8d801d"
   },
   "outputs": [
    {
     "name": "stdout",
     "output_type": "stream",
     "text": [
      "테스트 데이터의 수 : 19187\n"
     ]
    }
   ],
   "source": [
    "# 훈련과 테스트를 8대 2로 나눔\n",
    "n_of_val = int(len(encoder_input)*0.2)\n",
    "print('테스트 데이터의 수 :', n_of_val)"
   ]
  },
  {
   "cell_type": "code",
   "execution_count": 30,
   "metadata": {
    "colab": {
     "base_uri": "https://localhost:8080/"
    },
    "id": "hkosimue-DdX",
    "outputId": "69b51199-5e96-4ae6-a237-863fa0b4e760"
   },
   "outputs": [
    {
     "data": {
      "text/plain": [
       "array(['sostoken year old mumbai teenage boy raped by teens for year',\n",
       "       'sostoken billion people use at least one of facebook apps ceo',\n",
       "       'sostoken cr money laundering racket busted in mumbai', ...,\n",
       "       'sostoken visas for jadhav wife mother being processed pakistan',\n",
       "       'sostoken trump name dropped from hotel in panama',\n",
       "       'sostoken pm violated security protocol by flying in seaplane omar'],\n",
       "      dtype=object)"
      ]
     },
     "execution_count": 30,
     "metadata": {},
     "output_type": "execute_result"
    }
   ],
   "source": [
    "decoder_input[:-n_of_val]"
   ]
  },
  {
   "cell_type": "code",
   "execution_count": 31,
   "metadata": {
    "colab": {
     "base_uri": "https://localhost:8080/"
    },
    "id": "dxSDM1ud-FWq",
    "outputId": "8a080996-25f2-4f1e-b0ae-3d447c0c8b82"
   },
   "outputs": [
    {
     "data": {
      "text/plain": [
       "array(['year old mumbai teenage boy raped by teens for year eostoken',\n",
       "       'billion people use at least one of facebook apps ceo eostoken',\n",
       "       'cr money laundering racket busted in mumbai eostoken', ...,\n",
       "       'visas for jadhav wife mother being processed pakistan eostoken',\n",
       "       'trump name dropped from hotel in panama eostoken',\n",
       "       'pm violated security protocol by flying in seaplane omar eostoken'],\n",
       "      dtype=object)"
      ]
     },
     "execution_count": 31,
     "metadata": {},
     "output_type": "execute_result"
    }
   ],
   "source": [
    "decoder_target[:-n_of_val]"
   ]
  },
  {
   "cell_type": "code",
   "execution_count": 32,
   "metadata": {
    "colab": {
     "base_uri": "https://localhost:8080/"
    },
    "id": "DQ8kWSqL6ep3",
    "outputId": "034fb275-99ee-4f91-cfef-912fa7268d3b"
   },
   "outputs": [
    {
     "name": "stdout",
     "output_type": "stream",
     "text": [
      "훈련 데이터의 개수 : 76748\n",
      "훈련 레이블의 개수 : 76748\n",
      "테스트 데이터의 개수 : 19187\n",
      "테스트 레이블의 개수 : 19187\n"
     ]
    }
   ],
   "source": [
    "encoder_input_train = encoder_input[:-n_of_val]\n",
    "decoder_input_train = decoder_input[:-n_of_val]\n",
    "decoder_target_train = decoder_target[:-n_of_val]\n",
    "\n",
    "encoder_input_test = encoder_input[-n_of_val:]\n",
    "decoder_input_test = decoder_input[-n_of_val:]\n",
    "decoder_target_test = decoder_target[-n_of_val:]\n",
    "\n",
    "print('훈련 데이터의 개수 :', len(encoder_input_train))\n",
    "print('훈련 레이블의 개수 :', len(decoder_input_train))\n",
    "print('테스트 데이터의 개수 :', len(encoder_input_test))\n",
    "print('테스트 레이블의 개수 :', len(decoder_input_test))"
   ]
  },
  {
   "cell_type": "code",
   "execution_count": 33,
   "metadata": {
    "id": "zsBsvsKV6esw"
   },
   "outputs": [],
   "source": [
    "# 케라스 토크나이저로 단어사전 만듬\n",
    "# 굳이 단어 사전 축소 안 하고 전부 다 사용\n",
    "\n",
    "src_vocab_size = len(encoder_input_train)\n",
    "src_tokenizer = Tokenizer() # 토크나이저 정의\n",
    "src_tokenizer.fit_on_texts(encoder_input_train) # 입력된 데이터로부터 단어 집합 생성"
   ]
  },
  {
   "cell_type": "code",
   "execution_count": 34,
   "metadata": {
    "colab": {
     "base_uri": "https://localhost:8080/"
    },
    "id": "GRr2VnerBtdI",
    "outputId": "6810a087-5e39-42bc-8ec9-cc0f12a736b2"
   },
   "outputs": [
    {
     "name": "stdout",
     "output_type": "stream",
     "text": [
      "단어 집합(vocabulary)의 크기 : 68439\n",
      "등장 빈도가 9번 이하인 희귀 단어의 수: 50314\n",
      "단어 집합에서 희귀 단어를 제외시킬 경우의 단어 집합의 크기 18125\n",
      "단어 집합에서 희귀 단어의 비율: 73.51656219407063\n",
      "전체 등장 빈도에서 희귀 단어 등장 빈도 비율: 4.612432321293948\n"
     ]
    }
   ],
   "source": [
    "threshold = 10\n",
    "total_cnt = len(src_tokenizer.word_index) # 단어의 수\n",
    "rare_cnt = 0 # 등장 빈도수가 threshold보다 작은 단어의 개수를 카운트\n",
    "total_freq = 0 # 훈련 데이터의 전체 단어 빈도수 총 합\n",
    "rare_freq = 0 # 등장 빈도수가 threshold보다 작은 단어의 등장 빈도수의 총 합\n",
    "\n",
    "# 단어와 빈도수의 쌍(pair)을 key와 value로 받는다.\n",
    "for key, value in src_tokenizer.word_counts.items():\n",
    "    total_freq = total_freq + value\n",
    "\n",
    "    # 단어의 등장 빈도수가 threshold보다 작으면\n",
    "    if(value < threshold):\n",
    "        rare_cnt = rare_cnt + 1\n",
    "        rare_freq = rare_freq + value\n",
    "\n",
    "print('단어 집합(vocabulary)의 크기 :', total_cnt)\n",
    "print('등장 빈도가 %s번 이하인 희귀 단어의 수: %s'%(threshold - 1, rare_cnt))\n",
    "print('단어 집합에서 희귀 단어를 제외시킬 경우의 단어 집합의 크기 %s'%(total_cnt - rare_cnt))\n",
    "print(\"단어 집합에서 희귀 단어의 비율:\", (rare_cnt / total_cnt)*100)\n",
    "print(\"전체 등장 빈도에서 희귀 단어 등장 빈도 비율:\", (rare_freq / total_freq)*100)"
   ]
  },
  {
   "cell_type": "code",
   "execution_count": 35,
   "metadata": {
    "id": "4AE8dVmHByrO"
   },
   "outputs": [],
   "source": [
    "# 케라스 토크나이저로 단어사전 만듬\n",
    "# 희귀 단어 날리고 18000개로\n",
    "\n",
    "src_vocab_size = 18000\n",
    "src_tokenizer = Tokenizer(src_vocab_size) # 토크나이저 정의\n",
    "src_tokenizer.fit_on_texts(encoder_input_train) # 입력된 데이터로부터 단어 집합 생성"
   ]
  },
  {
   "cell_type": "code",
   "execution_count": 36,
   "metadata": {
    "id": "SfsJ_GW-Dkyn"
   },
   "outputs": [],
   "source": [
    "# 디코더도 똑같이 진행 input train만 하면 eostoken이 빠지게됨\n",
    "\n",
    "tar_vocab_size = len(decoder_input_train) + len(decoder_target_train)\n",
    "tar_tokenizer = Tokenizer()\n",
    "tar_tokenizer.fit_on_texts(decoder_input_train+decoder_target_train)\n",
    "# tar_tokenizer.fit_on_texts(decoder_input_train)\n",
    "# word_count_d = pd.DataFrame(tar_tokenizer.word_counts.items(), columns=['word', 'count'])"
   ]
  },
  {
   "cell_type": "code",
   "execution_count": 37,
   "metadata": {
    "colab": {
     "base_uri": "https://localhost:8080/"
    },
    "id": "Vw0ECN-lB9Lv",
    "outputId": "d69329ad-ee41-458a-e347-87483b91736f"
   },
   "outputs": [
    {
     "name": "stdout",
     "output_type": "stream",
     "text": [
      "단어 집합(vocabulary)의 크기 : 94002\n",
      "등장 빈도가 3번 이하인 희귀 단어의 수: 75193\n",
      "단어 집합에서 희귀 단어를 제외시킬 경우의 단어 집합의 크기 18809\n",
      "단어 집합에서 희귀 단어의 비율: 79.99085125848386\n",
      "전체 등장 빈도에서 희귀 단어 등장 빈도 비율: 6.173735365141474\n"
     ]
    }
   ],
   "source": [
    "threshold = 4\n",
    "total_cnt = len(tar_tokenizer.word_index) # 단어의 수\n",
    "rare_cnt = 0 # 등장 빈도수가 threshold보다 작은 단어의 개수를 카운트\n",
    "total_freq = 0 # 훈련 데이터의 전체 단어 빈도수 총 합\n",
    "rare_freq = 0 # 등장 빈도수가 threshold보다 작은 단어의 등장 빈도수의 총 합\n",
    "\n",
    "# 단어와 빈도수의 쌍(pair)을 key와 value로 받는다.\n",
    "for key, value in tar_tokenizer.word_counts.items():\n",
    "    total_freq = total_freq + value\n",
    "\n",
    "    # 단어의 등장 빈도수가 threshold보다 작으면\n",
    "    if(value < threshold):\n",
    "        rare_cnt = rare_cnt + 1\n",
    "        rare_freq = rare_freq + value\n",
    "\n",
    "print('단어 집합(vocabulary)의 크기 :', total_cnt)\n",
    "print('등장 빈도가 %s번 이하인 희귀 단어의 수: %s'%(threshold - 1, rare_cnt))\n",
    "print('단어 집합에서 희귀 단어를 제외시킬 경우의 단어 집합의 크기 %s'%(total_cnt - rare_cnt))\n",
    "print(\"단어 집합에서 희귀 단어의 비율:\", (rare_cnt / total_cnt)*100)\n",
    "print(\"전체 등장 빈도에서 희귀 단어 등장 빈도 비율:\", (rare_freq / total_freq)*100)"
   ]
  },
  {
   "cell_type": "code",
   "execution_count": 38,
   "metadata": {
    "id": "GigAY8EhB-3x"
   },
   "outputs": [],
   "source": [
    "# 희귀 단어 날리고 18000개로\n",
    "\n",
    "tar_vocab_size = 18000\n",
    "tar_tokenizer = Tokenizer(tar_vocab_size)\n",
    "tar_tokenizer.fit_on_texts(decoder_input_train+decoder_target_train)\n",
    "# tar_tokenizer.fit_on_texts(decoder_input_train)"
   ]
  },
  {
   "cell_type": "code",
   "execution_count": 39,
   "metadata": {
    "id": "lLpDUXqL-hNa"
   },
   "outputs": [],
   "source": [
    "src_index_to_word = src_tokenizer.index_word # 원문 단어 집합에서 정수 -> 단어를 얻음\n",
    "tar_word_to_index = tar_tokenizer.word_index # 요약 단어 집합에서 단어 -> 정수를 얻음\n",
    "tar_index_to_word = tar_tokenizer.index_word # 요약 단어 집합에서 정수 -> 단어를 얻음"
   ]
  },
  {
   "cell_type": "code",
   "execution_count": 40,
   "metadata": {
    "colab": {
     "base_uri": "https://localhost:8080/"
    },
    "id": "S6uT-qAd-ksx",
    "outputId": "f1ba8089-bd2e-42e4-be24-8217609bb388"
   },
   "outputs": [
    {
     "data": {
      "text/plain": [
       "2"
      ]
     },
     "execution_count": 40,
     "metadata": {},
     "output_type": "execute_result"
    }
   ],
   "source": [
    "tar_word_to_index['eostoken']"
   ]
  },
  {
   "cell_type": "code",
   "execution_count": 41,
   "metadata": {
    "colab": {
     "base_uri": "https://localhost:8080/"
    },
    "id": "WOzg8hlHCaTp",
    "outputId": "e5af967c-0995-4f05-935e-10fdbdbb8f15"
   },
   "outputs": [
    {
     "data": {
      "text/plain": [
       "1"
      ]
     },
     "execution_count": 41,
     "metadata": {},
     "output_type": "execute_result"
    }
   ],
   "source": [
    "tar_word_to_index['sostoken']"
   ]
  },
  {
   "cell_type": "code",
   "execution_count": 362,
   "metadata": {
    "id": "YB6VR2bH9U9M"
   },
   "outputs": [],
   "source": [
    "# # 케라스 토크나이저로 단어사전 만듬\n",
    "# tar_vocab_size = len(word_count_d[word_count_d['count'] >= 2]['count'])\n",
    "# tar_tokenizer = Tokenizer(tar_vocab_size) # 1번만 등장하는 단어는 빼고 단어집합 만듬\n",
    "# tar_tokenizer.fit_on_texts(decoder_input_train)\n",
    "# tar_vocab_size"
   ]
  },
  {
   "cell_type": "code",
   "execution_count": 42,
   "metadata": {
    "colab": {
     "base_uri": "https://localhost:8080/"
    },
    "id": "75nro5fIEYzP",
    "outputId": "b740f03c-e175-4db4-de00-d4736e51ebba"
   },
   "outputs": [
    {
     "name": "stdout",
     "output_type": "stream",
     "text": [
      "[[3, 13, 438, 978, 75, 329, 168, 441, 1566, 1503, 1277, 672, 17, 3, 184, 438, 6, 12789, 3561, 1695, 483, 1974, 635, 332, 1392, 43, 1075, 300, 1345, 9, 1], [131, 123, 522, 1567, 81, 70, 10, 229, 162, 17, 32, 1922, 131, 385, 877, 3990, 129, 1, 5854, 1312, 1722, 10, 2051, 2173, 743, 175, 454, 4255, 142, 1567, 4, 4231, 406, 127, 6306, 1787, 9016], [1830, 798, 681, 6097, 18, 180, 2346, 4567, 1097, 2706, 75, 61, 13166, 870, 3302, 96, 4568, 4837, 10809, 4922, 932, 1425, 586, 845, 18, 100, 4922, 83, 213, 18]]\n"
     ]
    }
   ],
   "source": [
    "encoder_input_train = src_tokenizer.texts_to_sequences(encoder_input_train)\n",
    "encoder_input_test = src_tokenizer.texts_to_sequences(encoder_input_test)\n",
    "print(encoder_input_train[:3])"
   ]
  },
  {
   "cell_type": "code",
   "execution_count": 43,
   "metadata": {
    "colab": {
     "base_uri": "https://localhost:8080/"
    },
    "id": "M6yzAYJIzolA",
    "outputId": "34cb2181-9895-46a3-f7d8-94e6ba80e510"
   },
   "outputs": [
    {
     "name": "stdout",
     "output_type": "stream",
     "text": [
      "input\n",
      "input  [[1, 45, 23, 68, 7637, 336, 524, 16, 4139, 5, 45], [1, 178, 61, 227, 11, 1754, 111, 6, 219, 1644, 73], [1, 46, 256, 2847, 2634, 3936, 4, 68], [1, 1928, 391, 104, 5, 99, 969, 4, 86, 1190], [1, 32, 825, 134, 305, 528, 172, 230, 7638, 2489]]\n",
      "target\n",
      "decoder  [[45, 23, 68, 7637, 336, 524, 16, 4139, 5, 45, 2], [178, 61, 227, 11, 1754, 111, 6, 219, 1644, 73, 2], [46, 256, 2847, 2634, 3936, 4, 68, 2], [1928, 391, 104, 5, 99, 969, 4, 86, 1190, 2], [32, 825, 134, 305, 528, 172, 230, 7638, 2489, 2]]\n"
     ]
    }
   ],
   "source": [
    "decoder_input_train = tar_tokenizer.texts_to_sequences(decoder_input_train)\n",
    "decoder_target_train = tar_tokenizer.texts_to_sequences(decoder_target_train)\n",
    "decoder_input_test = tar_tokenizer.texts_to_sequences(decoder_input_test)\n",
    "decoder_target_test = tar_tokenizer.texts_to_sequences(decoder_target_test)\n",
    "\n",
    "# 잘 변환되었는지 확인\n",
    "print('input')\n",
    "print('input ',decoder_input_train[:5])\n",
    "print('target')\n",
    "print('decoder ',decoder_target_train[:5])"
   ]
  },
  {
   "cell_type": "code",
   "execution_count": 44,
   "metadata": {
    "colab": {
     "base_uri": "https://localhost:8080/"
    },
    "id": "bSgTbX8ZEPbW",
    "outputId": "f8104774-8bb4-47ec-d6fc-a9afa39cc091"
   },
   "outputs": [
    {
     "data": {
      "text/plain": [
       "(76748, 19187)"
      ]
     },
     "execution_count": 44,
     "metadata": {},
     "output_type": "execute_result"
    }
   ],
   "source": [
    "len(encoder_input_train), len(encoder_input_test)"
   ]
  },
  {
   "cell_type": "code",
   "execution_count": 45,
   "metadata": {
    "colab": {
     "base_uri": "https://localhost:8080/"
    },
    "id": "2IGf4PSwEPem",
    "outputId": "9c2d2fd7-b82d-499a-f805-178e2a757b6e"
   },
   "outputs": [
    {
     "data": {
      "text/plain": [
       "(76748, 76748, 19187, 19187)"
      ]
     },
     "execution_count": 45,
     "metadata": {},
     "output_type": "execute_result"
    }
   ],
   "source": [
    "len(decoder_input_train), len(decoder_target_train), len(decoder_input_test), len(decoder_target_test)"
   ]
  },
  {
   "cell_type": "code",
   "execution_count": 46,
   "metadata": {
    "colab": {
     "base_uri": "https://localhost:8080/"
    },
    "id": "aBgIiNKVEPhi",
    "outputId": "364f6a82-d145-493c-8032-c63f51685500"
   },
   "outputs": [
    {
     "name": "stdout",
     "output_type": "stream",
     "text": [
      "삭제할 훈련 데이터의 개수 : 0\n",
      "삭제할 테스트 데이터의 개수 : 0\n",
      "훈련 데이터의 개수 : 76748\n",
      "훈련 레이블의 개수 : 76748\n",
      "테스트 데이터의 개수 : 19187\n",
      "테스트 레이블의 개수 : 19187\n"
     ]
    }
   ],
   "source": [
    "# token만 있는 것들 삭제\n",
    "drop_train = [index for index, sentence in enumerate(decoder_input_train) if len(sentence) == 1]\n",
    "drop_test = [index for index, sentence in enumerate(decoder_input_test) if len(sentence) == 1]\n",
    "\n",
    "print('삭제할 훈련 데이터의 개수 :', len(drop_train))\n",
    "print('삭제할 테스트 데이터의 개수 :', len(drop_test))\n",
    "\n",
    "encoder_input_train = [sentence for index, sentence in enumerate(encoder_input_train) if index not in drop_train]\n",
    "decoder_input_train = [sentence for index, sentence in enumerate(decoder_input_train) if index not in drop_train]\n",
    "decoder_target_train = [sentence for index, sentence in enumerate(decoder_target_train) if index not in drop_train]\n",
    "\n",
    "encoder_input_test = [sentence for index, sentence in enumerate(encoder_input_test) if index not in drop_test]\n",
    "decoder_input_test = [sentence for index, sentence in enumerate(decoder_input_test) if index not in drop_test]\n",
    "decoder_target_test = [sentence for index, sentence in enumerate(decoder_target_test) if index not in drop_test]\n",
    "\n",
    "print('훈련 데이터의 개수 :', len(encoder_input_train))\n",
    "print('훈련 레이블의 개수 :', len(decoder_input_train))\n",
    "print('테스트 데이터의 개수 :', len(encoder_input_test))\n",
    "print('테스트 레이블의 개수 :', len(decoder_input_test))"
   ]
  },
  {
   "cell_type": "code",
   "execution_count": 47,
   "metadata": {
    "id": "XypLOISjEPkj"
   },
   "outputs": [],
   "source": [
    "encoder_input_train = pad_sequences(encoder_input_train, maxlen=text_cut, padding='post')\n",
    "encoder_input_test = pad_sequences(encoder_input_test, maxlen=text_cut, padding='post')\n",
    "\n",
    "decoder_input_train = pad_sequences(decoder_input_train, maxlen=headlines_cut, padding='post')\n",
    "decoder_target_train = pad_sequences(decoder_target_train, maxlen=headlines_cut, padding='post')\n",
    "decoder_input_test = pad_sequences(decoder_input_test, maxlen=headlines_cut, padding='post')\n",
    "decoder_target_test = pad_sequences(decoder_target_test, maxlen=headlines_cut, padding='post')"
   ]
  },
  {
   "cell_type": "code",
   "execution_count": 48,
   "metadata": {
    "colab": {
     "base_uri": "https://localhost:8080/"
    },
    "id": "UWBC-LlFFl4w",
    "outputId": "4704930a-55b9-4d54-abe9-f7460f3a228e"
   },
   "outputs": [
    {
     "data": {
      "text/plain": [
       "(76748, 19187)"
      ]
     },
     "execution_count": 48,
     "metadata": {},
     "output_type": "execute_result"
    }
   ],
   "source": [
    "len(encoder_input_train), len(encoder_input_test)"
   ]
  },
  {
   "cell_type": "code",
   "execution_count": 49,
   "metadata": {
    "colab": {
     "base_uri": "https://localhost:8080/"
    },
    "id": "StHjM-iqFl8E",
    "outputId": "072d4371-eaaa-4e74-f7db-3f1e8b4f07aa"
   },
   "outputs": [
    {
     "data": {
      "text/plain": [
       "(76748, 76748, 19187, 19187)"
      ]
     },
     "execution_count": 49,
     "metadata": {},
     "output_type": "execute_result"
    }
   ],
   "source": [
    "len(decoder_input_train), len(decoder_target_train), len(decoder_input_test), len(decoder_target_test)"
   ]
  },
  {
   "cell_type": "code",
   "execution_count": 50,
   "metadata": {
    "id": "0czuU_pLF8ai"
   },
   "outputs": [],
   "source": [
    "from tensorflow.keras.layers import Input, LSTM, Embedding, Dense, Concatenate, TimeDistributed, GRU, Dropout\n",
    "from tensorflow.keras.models import Model\n",
    "from tensorflow.keras.callbacks import EarlyStopping, ModelCheckpoint\n",
    "from tensorflow.keras.layers import AdditiveAttention"
   ]
  },
  {
   "cell_type": "code",
   "execution_count": 75,
   "metadata": {
    "id": "unTFGbJyFl-3"
   },
   "outputs": [
    {
     "name": "stdout",
     "output_type": "stream",
     "text": [
      "WARNING:tensorflow:Layer gru_12 will not use cuDNN kernels since it doesn't meet the criteria. It will use a generic GPU kernel as fallback when running on GPU.\n",
      "WARNING:tensorflow:Layer gru_13 will not use cuDNN kernels since it doesn't meet the criteria. It will use a generic GPU kernel as fallback when running on GPU.\n"
     ]
    }
   ],
   "source": [
    "# 인코더 설계 시작\n",
    "embedding_dim = 128\n",
    "hidden_size = 128\n",
    "\n",
    "# 인코더\n",
    "encoder_inputs = Input(shape=(text_cut,))\n",
    "\n",
    "# 인코더의 임베딩 층\n",
    "enc_emb = Embedding(src_vocab_size, embedding_dim)(encoder_inputs)\n",
    "\n",
    "# 인코더의 LSTM 1\n",
    "encoder_gru1 = GRU(hidden_size, return_sequences=True, return_state=True, activation='silu')\n",
    "encoder_output1, state_h1 = encoder_gru1(enc_emb)\n",
    "\n",
    "encoder_gru2 = GRU(hidden_size, return_sequences=True, return_state=True, activation='silu')\n",
    "encoder_output2, state_h2 = encoder_gru2(encoder_output1)"
   ]
  },
  {
   "cell_type": "code",
   "execution_count": 76,
   "metadata": {
    "id": "DiBo6JddHcsO"
   },
   "outputs": [
    {
     "name": "stdout",
     "output_type": "stream",
     "text": [
      "WARNING:tensorflow:Layer gru_14 will not use cuDNN kernels since it doesn't meet the criteria. It will use a generic GPU kernel as fallback when running on GPU.\n",
      "WARNING:tensorflow:Layer gru_15 will not use cuDNN kernels since it doesn't meet the criteria. It will use a generic GPU kernel as fallback when running on GPU.\n"
     ]
    }
   ],
   "source": [
    "# 디코더 설계\n",
    "decoder_inputs = Input(shape=(None,))\n",
    "\n",
    "# 디코더의 임베딩 층\n",
    "dec_emb_layer = Embedding(tar_vocab_size, embedding_dim)\n",
    "dec_emb = dec_emb_layer(decoder_inputs)\n",
    "\n",
    "# 디코더의 GRU\n",
    "decoder_gru1 = GRU(hidden_size, return_sequences=True, return_state=True,activation='silu')\n",
    "decoder_outputs1, _ = decoder_gru1(dec_emb, initial_state=[state_h2])\n",
    "\n",
    "decoder_gru2 = GRU(hidden_size, return_sequences=True, return_state=True,activation='silu')\n",
    "decoder_outputs2, _ = decoder_gru2(decoder_outputs1, initial_state=[state_h2])"
   ]
  },
  {
   "cell_type": "code",
   "execution_count": 77,
   "metadata": {
    "colab": {
     "base_uri": "https://localhost:8080/",
     "height": 901
    },
    "id": "RYa4oCQ7FyVl",
    "outputId": "d1e87b77-8a95-4baf-a435-d6109caf8ab5"
   },
   "outputs": [
    {
     "name": "stdout",
     "output_type": "stream",
     "text": [
      "Model: \"model_5\"\n",
      "__________________________________________________________________________________________________\n",
      "Layer (type)                    Output Shape         Param #     Connected to                     \n",
      "==================================================================================================\n",
      "input_9 (InputLayer)            [(None, 43)]         0                                            \n",
      "__________________________________________________________________________________________________\n",
      "embedding_6 (Embedding)         (None, 43, 128)      2304000     input_9[0][0]                    \n",
      "__________________________________________________________________________________________________\n",
      "input_10 (InputLayer)           [(None, None)]       0                                            \n",
      "__________________________________________________________________________________________________\n",
      "gru_12 (GRU)                    [(None, 43, 128), (N 99072       embedding_6[0][0]                \n",
      "__________________________________________________________________________________________________\n",
      "embedding_7 (Embedding)         (None, None, 128)    2304000     input_10[0][0]                   \n",
      "__________________________________________________________________________________________________\n",
      "gru_13 (GRU)                    [(None, 43, 128), (N 99072       gru_12[0][0]                     \n",
      "__________________________________________________________________________________________________\n",
      "gru_14 (GRU)                    [(None, None, 128),  99072       embedding_7[0][0]                \n",
      "                                                                 gru_13[0][1]                     \n",
      "__________________________________________________________________________________________________\n",
      "gru_15 (GRU)                    [(None, None, 128),  99072       gru_14[0][0]                     \n",
      "                                                                 gru_13[0][1]                     \n",
      "__________________________________________________________________________________________________\n",
      "attention_layer (AdditiveAttent (None, None, 128)    128         gru_15[0][0]                     \n",
      "                                                                 gru_13[0][0]                     \n",
      "__________________________________________________________________________________________________\n",
      "concat_layer (Concatenate)      (None, None, 256)    0           gru_15[0][0]                     \n",
      "                                                                 attention_layer[0][0]            \n",
      "__________________________________________________________________________________________________\n",
      "dense_9 (Dense)                 (None, None, 256)    65792       concat_layer[0][0]               \n",
      "__________________________________________________________________________________________________\n",
      "dropout_8 (Dropout)             (None, None, 256)    0           dense_9[0][0]                    \n",
      "__________________________________________________________________________________________________\n",
      "dense_10 (Dense)                (None, None, 128)    32896       dropout_8[0][0]                  \n",
      "__________________________________________________________________________________________________\n",
      "dropout_9 (Dropout)             (None, None, 128)    0           dense_10[0][0]                   \n",
      "__________________________________________________________________________________________________\n",
      "dense_11 (Dense)                (None, None, 18000)  2322000     dropout_9[0][0]                  \n",
      "==================================================================================================\n",
      "Total params: 7,425,104\n",
      "Trainable params: 7,425,104\n",
      "Non-trainable params: 0\n",
      "__________________________________________________________________________________________________\n"
     ]
    }
   ],
   "source": [
    "# 어텐션 층(어텐션 함수)\n",
    "attn_layer = AdditiveAttention(name='attention_layer')\n",
    "\n",
    "# 인코더와 디코더의 모든 time step의 hidden state를 어텐션 층에 전달하고 결과를 리턴\n",
    "attn_out = attn_layer([decoder_outputs2, encoder_output2])\n",
    "\n",
    "# 어텐션의 결과와 디코더의 hidden state들을 연결\n",
    "decoder_concat_input = Concatenate(axis=-1, name='concat_layer')([decoder_outputs2, attn_out])\n",
    "\n",
    "# 디코더의 출력층\n",
    "dense1 = Dense(256, activation='silu')\n",
    "dense_output1 = dense1(decoder_concat_input)\n",
    "dropout_output1 = Dropout(0.5)(dense_output1)\n",
    "\n",
    "dense2 = Dense(128, activation='silu')\n",
    "dense_output2 = dense2(dropout_output1)\n",
    "dropout_output2 = Dropout(0.5)(dense_output2)\n",
    "\n",
    "decoder_softmax_layer = Dense(tar_vocab_size, activation='softmax')\n",
    "decoder_softmax_outputs = decoder_softmax_layer(dropout_output2)\n",
    "\n",
    "# 모델 정의\n",
    "model = Model([encoder_inputs, decoder_inputs], decoder_softmax_outputs)\n",
    "model.summary()"
   ]
  },
  {
   "cell_type": "code",
   "execution_count": 78,
   "metadata": {
    "colab": {
     "base_uri": "https://localhost:8080/"
    },
    "id": "TOCsVz69FyY3",
    "outputId": "ba287d93-5372-4af7-8319-758b676a3233"
   },
   "outputs": [
    {
     "name": "stdout",
     "output_type": "stream",
     "text": [
      "Epoch 1/200\n",
      "1200/1200 [==============================] - 308s 253ms/step - loss: 6.0990 - val_loss: 5.6616\n",
      "Epoch 2/200\n",
      "1200/1200 [==============================] - 303s 252ms/step - loss: 5.6637 - val_loss: 5.3625\n",
      "Epoch 3/200\n",
      "1200/1200 [==============================] - 300s 250ms/step - loss: 5.3826 - val_loss: 5.1123\n",
      "Epoch 4/200\n",
      "1200/1200 [==============================] - 300s 250ms/step - loss: 5.1297 - val_loss: 4.8885\n",
      "Epoch 5/200\n",
      "1200/1200 [==============================] - 302s 251ms/step - loss: 4.9250 - val_loss: 4.7314\n",
      "Epoch 6/200\n",
      "1200/1200 [==============================] - 299s 249ms/step - loss: 4.7553 - val_loss: 4.6118\n",
      "Epoch 7/200\n",
      "1200/1200 [==============================] - 299s 250ms/step - loss: 4.6091 - val_loss: 4.5180\n",
      "Epoch 8/200\n",
      "1200/1200 [==============================] - 300s 250ms/step - loss: 4.4792 - val_loss: 4.4591\n",
      "Epoch 9/200\n",
      "1200/1200 [==============================] - 297s 248ms/step - loss: 4.3622 - val_loss: 4.3910\n",
      "Epoch 10/200\n",
      "1200/1200 [==============================] - 302s 252ms/step - loss: 4.2504 - val_loss: 4.3376\n",
      "Epoch 11/200\n",
      "1200/1200 [==============================] - 304s 253ms/step - loss: 4.1405 - val_loss: 4.3036\n",
      "Epoch 12/200\n",
      "1200/1200 [==============================] - 302s 252ms/step - loss: 4.0382 - val_loss: 4.2676\n",
      "Epoch 13/200\n",
      "1200/1200 [==============================] - 303s 253ms/step - loss: 3.9386 - val_loss: 4.2664\n",
      "Epoch 14/200\n",
      "1200/1200 [==============================] - 299s 250ms/step - loss: 3.8372 - val_loss: 4.2473\n",
      "Epoch 15/200\n",
      "1200/1200 [==============================] - 298s 248ms/step - loss: 3.7381 - val_loss: 4.2278\n",
      "Epoch 16/200\n",
      "1200/1200 [==============================] - 298s 248ms/step - loss: 3.6368 - val_loss: 4.2644\n",
      "Epoch 17/200\n",
      "1200/1200 [==============================] - 296s 247ms/step - loss: 3.5346 - val_loss: 4.2531\n",
      "Epoch 18/200\n",
      "1200/1200 [==============================] - 298s 248ms/step - loss: 3.4345 - val_loss: 4.2392\n",
      "Restoring model weights from the end of the best epoch.\n",
      "Epoch 00018: early stopping\n"
     ]
    }
   ],
   "source": [
    "model.compile(optimizer='adam', loss='sparse_categorical_crossentropy')\n",
    "es = EarlyStopping(monitor='val_loss', patience=3, verbose=1, restore_best_weights = True)\n",
    "\n",
    "history = model.fit(x=[encoder_input_train, decoder_input_train], y=decoder_target_train, \\\n",
    "          validation_data=([encoder_input_test, decoder_input_test], decoder_target_test), \\\n",
    "          batch_size=64, callbacks=[es], epochs=200)"
   ]
  },
  {
   "cell_type": "code",
   "execution_count": 79,
   "metadata": {
    "id": "GfBJ0WmIEPqt"
   },
   "outputs": [],
   "source": [
    "# 인코더 설계\n",
    "encoder_model = Model(inputs=encoder_inputs, outputs=[encoder_output2, state_h2]) # 인코더 구조 그대로 들고옴\n",
    "\n",
    "# 이전 시점의 상태들을 저장하는 텐서\n",
    "decoder_state_input_h = Input(shape=(hidden_size,))\n",
    "\n",
    "dec_emb2 = dec_emb_layer(decoder_inputs)\n",
    "\n",
    "# 문장의 다음 단어를 예측하기 위해서 초기 상태(initial_state)를 이전 시점의 상태로 사용. 이는 뒤의 함수 decode_sequence()에 구현\n",
    "# 훈련 과정에서와 달리 LSTM의 리턴하는 은닉 상태와 셀 상태인 state_h\n",
    "decoder_outputs3, state_h3 = decoder_gru1(dec_emb2, initial_state=[decoder_state_input_h])\n",
    "decoder_outputs4, state_h4 = decoder_gru2(decoder_outputs3, initial_state=[decoder_state_input_h])\n",
    "\n",
    "# 어텐션 층(어텐션 함수)\n",
    "decoder_hidden_state_input = Input(shape=(text_cut, hidden_size))\n",
    "\n",
    "attn_layer = AdditiveAttention(name='attention_layer')\n",
    "\n",
    "# 인코더와 디코더의 모든 time step의 hidden state를 어텐션 층에 전달하고 결과를 리턴\n",
    "attn_out_inf = attn_layer([decoder_outputs4, decoder_hidden_state_input])\n",
    "\n",
    "# 어텐션의 결과와 디코더의 hidden state들을 연결\n",
    "decoder_inf_concat = Concatenate(axis=-1, name='concat_layer')([decoder_outputs4, attn_out_inf])\n",
    "\n",
    "# 디코더의 출력층\n",
    "dense_output1_inf = dense1(decoder_inf_concat)\n",
    "dropout_output1_inf = Dropout(0.5)(dense_output1_inf)\n",
    "\n",
    "dense_output2_inf = dense2(dropout_output1_inf)\n",
    "dropout_output2_inf = Dropout(0.5)(dense_output2_inf)\n",
    "\n",
    "decoder_softmax_outputs = decoder_softmax_layer(dropout_output2_inf)\n",
    "\n",
    "decoder_model = Model(\n",
    "    [decoder_inputs] + [decoder_hidden_state_input, decoder_state_input_h],\n",
    "    [decoder_softmax_outputs] + [state_h4])\n"
   ]
  },
  {
   "cell_type": "code",
   "execution_count": 80,
   "metadata": {
    "colab": {
     "base_uri": "https://localhost:8080/",
     "height": 799
    },
    "id": "dA8jaEca1erH",
    "outputId": "87eb3afa-6258-4537-ce30-abde7c98f094"
   },
   "outputs": [
    {
     "name": "stdout",
     "output_type": "stream",
     "text": [
      "Model: \"model_7\"\n",
      "__________________________________________________________________________________________________\n",
      "Layer (type)                    Output Shape         Param #     Connected to                     \n",
      "==================================================================================================\n",
      "input_10 (InputLayer)           [(None, None)]       0                                            \n",
      "__________________________________________________________________________________________________\n",
      "embedding_7 (Embedding)         (None, None, 128)    2304000     input_10[0][0]                   \n",
      "__________________________________________________________________________________________________\n",
      "input_11 (InputLayer)           [(None, 128)]        0                                            \n",
      "__________________________________________________________________________________________________\n",
      "gru_14 (GRU)                    [(None, None, 128),  99072       embedding_7[1][0]                \n",
      "                                                                 input_11[0][0]                   \n",
      "__________________________________________________________________________________________________\n",
      "gru_15 (GRU)                    [(None, None, 128),  99072       gru_14[1][0]                     \n",
      "                                                                 input_11[0][0]                   \n",
      "__________________________________________________________________________________________________\n",
      "input_12 (InputLayer)           [(None, 43, 128)]    0                                            \n",
      "__________________________________________________________________________________________________\n",
      "attention_layer (AdditiveAttent (None, None, 128)    128         gru_15[1][0]                     \n",
      "                                                                 input_12[0][0]                   \n",
      "__________________________________________________________________________________________________\n",
      "concat_layer (Concatenate)      (None, None, 256)    0           gru_15[1][0]                     \n",
      "                                                                 attention_layer[0][0]            \n",
      "__________________________________________________________________________________________________\n",
      "dense_9 (Dense)                 (None, None, 256)    65792       concat_layer[0][0]               \n",
      "__________________________________________________________________________________________________\n",
      "dropout_10 (Dropout)            (None, None, 256)    0           dense_9[1][0]                    \n",
      "__________________________________________________________________________________________________\n",
      "dense_10 (Dense)                (None, None, 128)    32896       dropout_10[0][0]                 \n",
      "__________________________________________________________________________________________________\n",
      "dropout_11 (Dropout)            (None, None, 128)    0           dense_10[1][0]                   \n",
      "__________________________________________________________________________________________________\n",
      "dense_11 (Dense)                (None, None, 18000)  2322000     dropout_11[0][0]                 \n",
      "==================================================================================================\n",
      "Total params: 4,922,960\n",
      "Trainable params: 4,922,960\n",
      "Non-trainable params: 0\n",
      "__________________________________________________________________________________________________\n"
     ]
    }
   ],
   "source": [
    "decoder_model.summary()"
   ]
  },
  {
   "cell_type": "code",
   "execution_count": 81,
   "metadata": {
    "id": "_MiHR15aEPty"
   },
   "outputs": [],
   "source": [
    "def decode_sequence(input_seq):\n",
    "    # 입력으로부터 인코더의 상태를 얻음\n",
    "    # input_seq = encoder_input_test[i].reshape(1, text_cut)\n",
    "    e_out, e_h = encoder_model.predict(input_seq)\n",
    "\n",
    "        # <SOS>에 해당하는 토큰 생성\n",
    "    target_seq = np.zeros((1,1))\n",
    "    target_seq[0, 0] = tar_word_to_index['sostoken']\n",
    "\n",
    "    stop_condition = False\n",
    "    decoded_sentence = ''\n",
    "    while not stop_condition: # stop_condition이 True가 될 때까지 루프 반복\n",
    "\n",
    "        output_tokens, h = decoder_model.predict([target_seq] + [e_out, e_h])\n",
    "        sampled_token_index = np.argmax(output_tokens[0, -1, :])\n",
    "        sampled_token = tar_index_to_word[sampled_token_index]\n",
    "\n",
    "        if (sampled_token!='eostoken'):\n",
    "            decoded_sentence += ' '+sampled_token\n",
    "\n",
    "        #  <eos>에 도달하거나 최대 길이를 넘으면 중단.\n",
    "        if (sampled_token == 'eostoken'  or len(decoded_sentence.split()) >= (headlines_cut-1)):\n",
    "            stop_condition = True\n",
    "\n",
    "        # 길이가 1인 타겟 시퀀스를 업데이트\n",
    "        target_seq = np.zeros((1,1))\n",
    "        target_seq[0, 0] = sampled_token_index\n",
    "\n",
    "        # 상태를 업데이트 합니다.\n",
    "        e_h = h\n",
    "\n",
    "    return decoded_sentence"
   ]
  },
  {
   "cell_type": "code",
   "execution_count": 82,
   "metadata": {
    "id": "ne8r4Iubzood"
   },
   "outputs": [],
   "source": [
    "def seq2text(input_seq):\n",
    "    temp=''\n",
    "    for i in input_seq:\n",
    "        if (i!=0):\n",
    "            temp = temp + src_index_to_word[i]+' '\n",
    "    return temp"
   ]
  },
  {
   "cell_type": "code",
   "execution_count": 83,
   "metadata": {
    "id": "yrMKin0TvYCK"
   },
   "outputs": [],
   "source": [
    "def seq2headlines(input_seq):\n",
    "    temp=''\n",
    "    for i in input_seq:\n",
    "        if (i!=0):\n",
    "            temp = temp + tar_index_to_word[i]+' '\n",
    "    return temp"
   ]
  },
  {
   "cell_type": "code",
   "execution_count": 84,
   "metadata": {
    "colab": {
     "base_uri": "https://localhost:8080/"
    },
    "id": "If7cHs2WvYJi",
    "outputId": "e81196fc-7833-4b72-c107-a0ff6f920711"
   },
   "outputs": [
    {
     "name": "stdout",
     "output_type": "stream",
     "text": [
      "원문 : year old employee jumped first floor building income tax raid questioning tamil nadu man complained nausea stepping balcony jumping officials immediately alerted police officials rushed private hospital \n",
      "실제 요약 : sostoken man jumps off the first floor during it raid and questioning \n",
      "예측 요약 :  man in mumbai hospital in cr in mumbai hospital\n",
      "\n",
      "\n",
      "원문 : iifa press conference actress katrina kaif said please leave alia bhatt varun dhawan salman khan said journalists asked alia working salman film alia told journalists ask salman film joked trying get remake rights film called papa great \n",
      "실제 요약 : sostoken please leave alia for varun and salman for me jokes katrina \n",
      "예측 요약 :  do not most hai aamir on ranbir on ranbir on salman\n",
      "\n",
      "\n",
      "원문 : infosys chairman nandan nilekani wife rohini nilekani said public pledge needed indian wealthy giving enough said must overcome cultural barriers giving private silent activity committed donate half estimated billion wealth charity joining giving pledge initiative \n",
      "실제 요약 : sostoken the indian wealthy are not giving enough nilekani \n",
      "예측 요약 :  do not most expensive in india to be auctioned for\n",
      "\n",
      "\n",
      "원문 : shiv sena said india capital shifted london tokyo pm narendra modi speaks critical issues foreign visits added pm modi becomes baba india gives message indians abroad comes pm modi mentioned eight year old kathua rape victim session held london recently \n",
      "실제 요약 : sostoken shift india capital abroad to make pm modi talk shiv sena \n",
      "예측 요약 :  pm modi pm modi pm modi pm modi pm modi pm\n",
      "\n",
      "\n",
      "원문 : talking deepika padukone ranveer singh wedding take place november manish malhotra said love ranveer deepika course wish best talking priyanka chopra nick jonas wedding reportedly take place december manish said wish happiness world \n",
      "실제 요약 : sostoken manish wishes deepika ranveer priyanka nick ahead of wedding \n",
      "예측 요약 :  am not big on his film to be to salman on\n",
      "\n",
      "\n",
      "원문 : mizoram assembly single woman mla female candidates lost assembly elections state women candidates together secured votes assembly elections women men voters list mizo national front bagged seats fielded single woman candidate \n",
      "실제 요약 : sostoken mizoram assembly will not have any woman mla \n",
      "예측 요약 :  bjp leader bjp leader to get to mp mp\n",
      "\n",
      "\n",
      "원문 : us based chemical company friday ordered pay million year old former johnson got cancer company jury said company failed warn health hazards exposure company faces similar lawsuits across us \n",
      "실제 요약 : firm ordered to pay to man who got cancer from its chemical \n",
      "예측 요약 :  police to be used in\n",
      "\n",
      "\n",
      "원문 : philippine defence secretary said rebuilding isis besieged city marawi could cost billion conflict marawi began may philippine military tried capture head militia pledged loyalty isis leader abu bakr al baghdadi people killed conflict \n",
      "실제 요약 : sostoken isis besieged city to cost philippines bn \n",
      "예측 요약 :  killed in terror attack in isis to kill isis to death\n",
      "\n",
      "\n",
      "원문 : former cricketer virender sehwag played cricket belgium king philippe queen several school kids oval maidan mumbai part event organised unicef sehwag also presented king philippe bat event king queen first visit india philippe throne \n",
      "실제 요약 : sostoken sehwag plays cricket with belgium king and queen in mumbai \n",
      "예측 요약 :  actor sania singh\n",
      "\n",
      "\n",
      "원문 : pregnant woman andhra pradesh district delivered way carried hospital tuesday relatives carrying makeshift cloth stretcher absence proper road connectivity hospital km away delivered baby km journey decided return home \n",
      "실제 요약 : sostoken pregnant lady being taken to hospital on cloth delivers on way \n",
      "예측 요약 :  girl in hospital to get in hospital to get in hospital\n",
      "\n",
      "\n",
      "원문 : new law data protection process framed union minister ravi shankar prasad friday informed rajya sabha said proposal make internet availability fundamental right government committed providing internet connectivity everyone committee set formulate law added \n",
      "실제 요약 : sostoken new law on data protection being framed govt in rs \n",
      "예측 요약 :  govt to be to govt on in india to be to\n",
      "\n",
      "\n",
      "원문 : certified year guinness world records world oldest man died friday aged month th birthday born poland jewish family survived death camp second world war survived two children nine grandchildren great grandchildren \n",
      "실제 요약 : sostoken world oldest man dies in israel aged \n",
      "예측 요약 :  world oldest man to win in years in years of year\n",
      "\n",
      "\n",
      "원문 : union women child development minister maneka gandhi asked finance minister arun jaitley provide tax exemption eco friendly bio sanitary napkins gst like condoms contraceptives sanitary napkins made tax free essential items every woman petition submitted maneka stated \n",
      "실제 요약 : sostoken maneka asks jaitley to make sanitary napkins tax free \n",
      "예측 요약 :  gst is than gst scheme to be mandatory in\n",
      "\n",
      "\n",
      "원문 : state owned bank india shut atms cut costs part turnaround plan bank said take decision shutting another atms end february rbi put bank india prompt corrective action bad loans soared return assets turned negative bank \n",
      "실제 요약 : sostoken bank of india to shut atms to cut costs \n",
      "예측 요약 :  banks to be sold for crore loans to be to banks\n",
      "\n",
      "\n",
      "원문 : actor akshay kumar thursday donated crore total families crpf martyrs killed chhattisgarh sukma district naxal ambush march kumar approached union home ministry requesting bank account numbers martyred jawans family members kumar gesture patriotism devotion towards country said crpf \n",
      "실제 요약 : sostoken akshay kumar donates crore to families of crpf martyrs \n",
      "예측 요약 :  cm to kill up cm to kill in chhattisgarh govt\n",
      "\n",
      "\n",
      "원문 : australian channel took dig india captain virat kohli sharing video test dismissals england caption virat kohli favourite shot england kohli dismissed seven times ball wicketkeeper slips last test series england australian media called kohli \n",
      "실제 요약 : sostoken aussie media mocks kohli over dismissals in england in \n",
      "예측 요약 :  kohli to be bowled in the test kohli on his ball\n",
      "\n",
      "\n",
      "원문 : actor saif ali khan talking daughter sara ali khan bollywood debut said worries deal failure get upset cry added concerned daughter like father saif said happy sara something passionate \n",
      "실제 요약 : sostoken worried how she will deal with failure saif on sara debut \n",
      "예측 요약 :  my dad on my life on her in her film in\n",
      "\n",
      "\n",
      "원문 : tata sons wednesday announced appointed tcs executive director subramanian group chief digital officer subramanian computer science graduate national institute technology holds masters degree engineering management university kansas subramanian report chandrasekaran executive chairman tata sons \n",
      "실제 요약 : sostoken tata sons names subramanian as chief digital officer \n",
      "예측 요약 :  ceo to be to pm modi ceo on uk chairman\n",
      "\n",
      "\n",
      "원문 : wife jailed gangster prem prakash singh alias munna bajrangi alleged uttar pradesh police planning fake encounter already tried kill jail officials said allegations attempt gain sympathy bajrangi delay trial proceedings bajrangi accused several murders including extortion \n",
      "실제 요약 : sostoken jailed gangster wife says up police planning his encounter \n",
      "예측 요약 :  murder accused in jail in jail arrested in jail arrested\n",
      "\n",
      "\n",
      "원문 : supreme court extended deadline uttar pradesh government submit vision document protecting taj mahal till november asked state government consider declaring portions surrounding taj mahal heritage previously court said issues like vehicular traffic pollution taj zone industries considered preparing vision document nn \n",
      "실제 요약 : submit vision document on taj mahal by nov sc to up govt \n",
      "예측 요약 :  govt govt to be built in the the the diwali govt\n",
      "\n",
      "\n",
      "원문 : delhi commission women chairperson swati maliwal penned letter pm narendra modi urging remove union minister mj akbar post several women accused sexual harassment maliwal said think deserve minister anymore also urged pm modi help victims fight justice \n",
      "실제 요약 : mj akbar does not deserve to be minister dcw chief to pm \n",
      "예측 요약 :  pm modi chief on bjp leader on pm modi govt\n",
      "\n",
      "\n",
      "원문 : owner little pizza chain detroit casino hotel topped forbes list america richest self made women net worth billion followed supply company abc supply diane billion fortune love oprah winfrey worth billion \n",
      "실제 요약 : sostoken pizza chain owner tops usa richest self made women list \n",
      "예측 요약 :  world richest man to be sold for for first year old\n",
      "\n",
      "\n",
      "원문 : england pacer stuart broad jokingly tagged indian cricketer yuvraj singh england cricket instagram post rounder sam curran year old hit six sixes innings hitting four second test sri lanka wednesday notably yuvraj hit broad six sixes icc world \n",
      "실제 요약 : sostoken stuart broad tags yuvraj singh in instagram post on sixes \n"
     ]
    },
    {
     "name": "stdout",
     "output_type": "stream",
     "text": [
      "예측 요약 :  ipl cricket cricket cricket cricket cricket cricket cricket cricket cricket cricket\n",
      "\n",
      "\n",
      "원문 : petrol price sunday cut paise per litre lowest level diesel price reduced paise nine month low petrol delhi costs per litre diesel litre petrol price decline since october amidst falling international oil prices rupee appreciation \n",
      "실제 요약 : sostoken petrol rate cut to its lowest in diesel at month low \n",
      "예측 요약 :  petrol prices in in fy lowest in petrol diesel in revenue\n",
      "\n",
      "\n",
      "원문 : batsman ambati rayudu failed make six different squads named bcci duleep trophy india matches reportedly skipping yo yo test year old pulled india squad england odis june failing test later appear six week time period \n",
      "실제 요약 : rayudu not picked in squads by bcci for missing yo yo test \n",
      "예측 요약 :  cricket cricket cricket cricket cricket cricket cricket cricket cricket cricket cricket\n",
      "\n",
      "\n",
      "원문 : models walked saris sixty fashion designers amazon fashion week show sari sari hood gloves among unique creations vogue show dhruv kapoor showcasing sari skirt manish arora presenting colourful sari floral presented sari \n",
      "실제 요약 : sostoken sari with hood gloves showcased at amazon fashion week \n",
      "예측 요약 :  wonder woman starrer film to be starrer film\n",
      "\n",
      "\n",
      "원문 : ex pakistan captain wasim akram said pakistan performance asia cup embarrassing see winning losing part game like boring good tv good spectators whole country disappointed akram added pakistan lost matches including twice india \n",
      "실제 요약 : sostoken pak asia cup performance embarrassing not good for tv akram \n",
      "예측 요약 :  my cricket is the test in the the the the the\n",
      "\n",
      "\n",
      "원문 : telecom department said meet officials airtel idea vodafone hear pleas trai crore penalty trai recommended government impose penalty telcos allegedly denying sufficient interconnection points reliance jio jio complained large number calls network failed result \n",
      "실제 요약 : sostoken telecom dept to meet airtel idea vodafone over jio penalty \n",
      "예측 요약 :  trai to be to pay on sale to pay tax to\n",
      "\n",
      "\n",
      "원문 : ex australia opener matthew hayden smashed highest test score hours minutes zimbabwe hayden faced balls hit fours sixes broke ex windies captain brian lara year old record october hayden record broken lara smashed tests april \n",
      "실제 요약 : sostoken hayden took hours to slam then highest test score of \n",
      "예측 요약 :  ipl runs in ipl record in ipl record in ipl runs\n",
      "\n",
      "\n",
      "원문 : assam assembly passed three bills increasing monthly salary chief minister assembly speaker deputy speaker ministers mlas chief minister salary allowance hiked lakh lakh salaries mlas increased decision applicable month \n",
      "실제 요약 : sostoken assam hikes mlas salary by cm to get per month \n",
      "예측 요약 :  farmers to farmers to mlas to farmers to farmers to farmers\n",
      "\n",
      "\n",
      "원문 : talking wife deepika padukone ranveer singh said could got carried away name fame grounded blockbuster year would already started dating seen deal success failure added ranveer ranveer earlier said six months relationship knew one \n",
      "실제 요약 : sostoken could have got carried away with fame deepika grounded me ranveer \n",
      "예측 요약 :  was not in film in the the the the the the\n",
      "\n",
      "\n",
      "원문 : scotland placed th odi rankings defeated top ranked england six runs one odi sunday scotland registered highest ever odi total breaking year old record highest odi total associate side match witnessed jonny bairstow become first england player hit three straight odi hundreds \n",
      "실제 요약 : sostoken th ranked scotland score beat no england by runs \n",
      "예측 요약 :  world cup in ipl th odi odi odi test in ipl\n",
      "\n",
      "\n",
      "원문 : plane carrying russian defence minister sergei approached nato fighter jet baltic sea even though flying neutral waters according reports however nato plane chased away russian su jet minister aircraft reports added \n",
      "실제 요약 : sostoken russian defence minister plane by nato jet reports \n",
      "예측 요약 :  us jet of us to be killed in\n",
      "\n",
      "\n",
      "원문 : class student allegedly beaten physical education commerce teacher bengaluru ryan international school student father claims teacher trying silence class got angry son response friend joke started punching brutally boy currently hospitalised injuries \n",
      "실제 요약 : sostoken luru student beaten by teacher in ryan school for \n",
      "예측 요약 :  student who was who was who found in\n",
      "\n",
      "\n",
      "원문 : benchmark index bse sensex closed mark first time tuesday breaching level morning trade rose points close nifty rose points close bharti airtel yes bank gained indices ntpc sbi coal india top losers \n",
      "실제 요약 : sostoken sensex closes above for the first time \n",
      "예측 요약 :  sensex in sept to reach in india first in sept to\n",
      "\n",
      "\n",
      "원문 : tree believed planted years ago wales fallen tree located along roughly following border wales england feet believed planted mark site ad battle \n",
      "실제 요약 : sostoken year old tree border falls \n",
      "예측 요약 :  in days in years old\n",
      "\n",
      "\n",
      "원문 : punjab cabinet minister navjot singh sidhu thursday said union cabinet decision kartarpur corridor act like pakistan india welcome auspicious step union cabinet cup joy crore nanak naam added said thank govt india take bow \n",
      "실제 요약 : sostoken for india pak navjot on kartarpur corridor \n",
      "예측 요약 :  pm modi pm modi to be elected to pak pm modi\n",
      "\n",
      "\n",
      "원문 : models carried heads runway resembled operating room gucci show milan fashion week wednesday gucci collection also showed models carrying including baby wearing third eye meanwhile gucci creative director said limiting fashion something produces business easy \n",
      "실제 요약 : sostoken models carry of own heads at gucci fashion show \n",
      "예측 요약 :  film festival\n",
      "\n",
      "\n",
      "원문 : uttar pradesh bjp chief state deputy chief minister keshav prasad maurya saturday said alleged wrongdoings samajwadi party would rectified necessary action would taken samajwadi party added maurya earlier said task force instituted investigate cases corruption last years \n",
      "실제 요약 : sostoken of the samajwadi party will be bjp \n",
      "예측 요약 :  bjp cm on bjp to be in in kashmir to be\n",
      "\n",
      "\n",
      "원문 : actor rana daggubati speaking hyderabad drug racket case said bothered actors taking drugs adults worried school children taking drugs youngsters mind drugs added rana said something needs taken seriously \n",
      "실제 요약 : sostoken do not care if actors take drugs but kids shouldn rana \n",
      "예측 요약 :  people to be found in year\n",
      "\n",
      "\n",
      "원문 : according theory say cheese taking photos saying word causes person smile victorian era people avoided smiling photographs saying children working class people usually smiled however launched camera photography made accessible paired smile ad campaigns \n",
      "실제 요약 : sostoken why do we say cheese before taking photos \n",
      "예측 요약 :  the human rights to be to be to\n",
      "\n",
      "\n",
      "원문 : adobe tuesday announced stop updating distributing flash player plug end flash technology one widely used ways watch videos play games online recent years google chrome microsoft edge safari flash favour alternative \n",
      "실제 요약 : sostoken announces plan to shut down flash player \n",
      "예측 요약 :  earthquakes to be to be to be to be to be\n",
      "\n",
      "\n",
      "원문 : uk based scientists developing camera track medical tools inserted patient detect light sources inside body illuminated tip generally tracked using rays expensive methods prototype demonstrated point source light approximately cm thick tissue normal lighting conditions \n",
      "실제 요약 : sostoken medical camera that can see through human body being made \n",
      "예측 요약 :  scientists make to be auctioned for\n",
      "\n",
      "\n",
      "원문 : actor rajkummar rao seen holding evm machine running away new poster upcoming film newton poster captioned aadmi directed amit film revolves around government clerk election duty naxal controlled town scheduled release august \n",
      "실제 요약 : sostoken rajkummar runs away with evm machine in new newton poster \n",
      "예측 요약 :  rajkummar on padmavati in tamil film to be in in gujarat\n",
      "\n",
      "\n",
      "원문 : mural artists fifa world cup venue city painted brazilian forward neymar portrait wall behind team hotel comes ahead quarter final match belgium brazil friday become third footballer lionel messi cristiano ronaldo get mural \n",
      "실제 요약 : sostoken after ronaldo and messi neymar mural comes up in wc city \n",
      "예측 요약 :  world cup on wc final in wc ship in wc match\n",
      "\n",
      "\n",
      "원문 : aircraft manufacturer airbus shared video shows users able hail project self flying taxis shows computer generated figure using app request flight california taxi reaches nearby airport vertical take landing aircraft video minute ride costs \n",
      "실제 요약 : sostoken airbus shares how users will its flying taxis \n"
     ]
    },
    {
     "name": "stdout",
     "output_type": "stream",
     "text": [
      "예측 요약 :  startup to be sold for for air air india flight to\n",
      "\n",
      "\n",
      "원문 : cpi lost tripura assembly elections first time years congress leader jairam ramesh said demise left disaster india left change mind people aspirations society also changing added kerala state governed cpi \n",
      "실제 요약 : sostoken demise of the left will be disaster for india cong leader \n",
      "예측 요약 :  women will be in day in yrs in yrs old women\n",
      "\n",
      "\n",
      "원문 : india per capita income average income earned per person grew last fiscal slowest pace six years nominal terms per capita income stood compared government data showed per capita income real terms fiscal grew \n",
      "실제 요약 : sostoken india per capita income grows slowest in years \n",
      "예측 요약 :  in days in days in days in days in days in\n",
      "\n",
      "\n",
      "원문 : jury georgia us ordered security company pay billion damages woman raped employee teen lawyers representing victim raped claimed largest jury verdict awarded sexual assault case us \n",
      "실제 요약 : sostoken us woman raped as teen awarded billion in damages \n",
      "예측 요약 :  man to get fake body to police to get rape in\n",
      "\n",
      "\n",
      "원문 : days external pressure youtube banned neo nazi channel called citing multiple severe violations youtube policy prohibiting hate speech linked five murders including gay jewish student group recruited around people across states one sentenced five years prison bomb making materials \n",
      "실제 요약 : sostoken facing flak over hate speech youtube bans neo nazi channel \n",
      "예측 요약 :  us to be called to be in us parliament\n",
      "\n",
      "\n"
     ]
    }
   ],
   "source": [
    "for i in range(50, 100):\n",
    "    print(\"원문 :\", seq2text(encoder_input_test[i]))\n",
    "    print(\"실제 요약 :\", seq2headlines(decoder_input_test[i]))\n",
    "    print(\"예측 요약 :\", decode_sequence(encoder_input_test[i].reshape(1, text_cut)))\n",
    "    print(\"\\n\")"
   ]
  },
  {
   "cell_type": "code",
   "execution_count": 85,
   "metadata": {
    "colab": {
     "base_uri": "https://localhost:8080/",
     "height": 430
    },
    "id": "19lL-09OvYMq",
    "outputId": "568a18a0-4903-4cda-c0ab-aded343c7e12"
   },
   "outputs": [
    {
     "data": {
      "image/png": "[encoded data removed]",
      "text/plain": [
       "<Figure size 432x288 with 1 Axes>"
      ]
     },
     "metadata": {
      "needs_background": "light"
     },
     "output_type": "display_data"
    }
   ],
   "source": [
    "plt.plot(history.history['loss'], label='train')\n",
    "plt.plot(history.history['val_loss'], label='test')\n",
    "plt.legend()\n",
    "plt.show()"
   ]
  },
  {
   "cell_type": "code",
   "execution_count": 86,
   "metadata": {
    "id": "evH4StBWvYUE"
   },
   "outputs": [],
   "source": [
    "from summa.summarizer import summarize"
   ]
  },
  {
   "cell_type": "code",
   "execution_count": 87,
   "metadata": {
    "colab": {
     "base_uri": "https://localhost:8080/",
     "height": 1000
    },
    "id": "nTzpRlidzq8H",
    "outputId": "5d08f98c-3028-4bba-955d-cce643f923d5",
    "scrolled": false
   },
   "outputs": [
    {
     "name": "stdout",
     "output_type": "stream",
     "text": [
      "원문 : year old employee jumped first floor building income tax raid questioning tamil nadu man complained nausea stepping balcony jumping officials immediately alerted police officials rushed private hospital \n",
      "추출 요약 : \n",
      "추상 요약 :  man in mumbai hospital in cr in mumbai hospital\n",
      "\n",
      "\n",
      "원문 : iifa press conference actress katrina kaif said please leave alia bhatt varun dhawan salman khan said journalists asked alia working salman film alia told journalists ask salman film joked trying get remake rights film called papa great \n",
      "추출 요약 : \n",
      "추상 요약 :  do not most hai aamir on ranbir on ranbir on salman\n",
      "\n",
      "\n",
      "원문 : infosys chairman nandan nilekani wife rohini nilekani said public pledge needed indian wealthy giving enough said must overcome cultural barriers giving private silent activity committed donate half estimated billion wealth charity joining giving pledge initiative \n",
      "추출 요약 : \n",
      "추상 요약 :  do not most expensive in india to be auctioned for\n",
      "\n",
      "\n",
      "원문 : shiv sena said india capital shifted london tokyo pm narendra modi speaks critical issues foreign visits added pm modi becomes baba india gives message indians abroad comes pm modi mentioned eight year old kathua rape victim session held london recently \n",
      "추출 요약 : \n",
      "추상 요약 :  pm modi pm modi pm modi pm modi pm modi pm\n",
      "\n",
      "\n",
      "원문 : talking deepika padukone ranveer singh wedding take place november manish malhotra said love ranveer deepika course wish best talking priyanka chopra nick jonas wedding reportedly take place december manish said wish happiness world \n",
      "추출 요약 : \n",
      "추상 요약 :  am not big on his film to be to salman on\n",
      "\n",
      "\n",
      "원문 : mizoram assembly single woman mla female candidates lost assembly elections state women candidates together secured votes assembly elections women men voters list mizo national front bagged seats fielded single woman candidate \n",
      "추출 요약 : \n",
      "추상 요약 :  bjp leader bjp leader to get to mp mp\n",
      "\n",
      "\n",
      "원문 : us based chemical company friday ordered pay million year old former johnson got cancer company jury said company failed warn health hazards exposure company faces similar lawsuits across us \n",
      "추출 요약 : \n",
      "추상 요약 :  police to be used in\n",
      "\n",
      "\n",
      "원문 : philippine defence secretary said rebuilding isis besieged city marawi could cost billion conflict marawi began may philippine military tried capture head militia pledged loyalty isis leader abu bakr al baghdadi people killed conflict \n",
      "추출 요약 : \n",
      "추상 요약 :  killed in terror attack in isis to kill isis to death\n",
      "\n",
      "\n",
      "원문 : former cricketer virender sehwag played cricket belgium king philippe queen several school kids oval maidan mumbai part event organised unicef sehwag also presented king philippe bat event king queen first visit india philippe throne \n",
      "추출 요약 : \n",
      "추상 요약 :  actor sania singh\n",
      "\n",
      "\n",
      "원문 : pregnant woman andhra pradesh district delivered way carried hospital tuesday relatives carrying makeshift cloth stretcher absence proper road connectivity hospital km away delivered baby km journey decided return home \n",
      "추출 요약 : \n",
      "추상 요약 :  girl in hospital to get in hospital to get in hospital\n",
      "\n",
      "\n",
      "원문 : new law data protection process framed union minister ravi shankar prasad friday informed rajya sabha said proposal make internet availability fundamental right government committed providing internet connectivity everyone committee set formulate law added \n",
      "추출 요약 : \n",
      "추상 요약 :  govt to be to govt on in india to be to\n",
      "\n",
      "\n",
      "원문 : certified year guinness world records world oldest man died friday aged month th birthday born poland jewish family survived death camp second world war survived two children nine grandchildren great grandchildren \n",
      "추출 요약 : \n",
      "추상 요약 :  world oldest man to win in years in years of year\n",
      "\n",
      "\n",
      "원문 : union women child development minister maneka gandhi asked finance minister arun jaitley provide tax exemption eco friendly bio sanitary napkins gst like condoms contraceptives sanitary napkins made tax free essential items every woman petition submitted maneka stated \n",
      "추출 요약 : \n",
      "추상 요약 :  gst is than gst scheme to be mandatory in\n",
      "\n",
      "\n",
      "원문 : state owned bank india shut atms cut costs part turnaround plan bank said take decision shutting another atms end february rbi put bank india prompt corrective action bad loans soared return assets turned negative bank \n",
      "추출 요약 : \n",
      "추상 요약 :  banks to be sold for crore loans to be to banks\n",
      "\n",
      "\n",
      "원문 : actor akshay kumar thursday donated crore total families crpf martyrs killed chhattisgarh sukma district naxal ambush march kumar approached union home ministry requesting bank account numbers martyred jawans family members kumar gesture patriotism devotion towards country said crpf \n",
      "추출 요약 : \n",
      "추상 요약 :  cm to kill up cm to kill in chhattisgarh govt\n",
      "\n",
      "\n",
      "원문 : australian channel took dig india captain virat kohli sharing video test dismissals england caption virat kohli favourite shot england kohli dismissed seven times ball wicketkeeper slips last test series england australian media called kohli \n",
      "추출 요약 : \n",
      "추상 요약 :  kohli to be bowled in the test kohli on his ball\n",
      "\n",
      "\n",
      "원문 : actor saif ali khan talking daughter sara ali khan bollywood debut said worries deal failure get upset cry added concerned daughter like father saif said happy sara something passionate \n",
      "추출 요약 : \n",
      "추상 요약 :  my dad on my life on her in her film in\n",
      "\n",
      "\n",
      "원문 : tata sons wednesday announced appointed tcs executive director subramanian group chief digital officer subramanian computer science graduate national institute technology holds masters degree engineering management university kansas subramanian report chandrasekaran executive chairman tata sons \n",
      "추출 요약 : \n",
      "추상 요약 :  ceo to be to pm modi ceo on uk chairman\n",
      "\n",
      "\n",
      "원문 : wife jailed gangster prem prakash singh alias munna bajrangi alleged uttar pradesh police planning fake encounter already tried kill jail officials said allegations attempt gain sympathy bajrangi delay trial proceedings bajrangi accused several murders including extortion \n",
      "추출 요약 : \n",
      "추상 요약 :  murder accused in jail in jail arrested in jail arrested\n",
      "\n",
      "\n",
      "원문 : supreme court extended deadline uttar pradesh government submit vision document protecting taj mahal till november asked state government consider declaring portions surrounding taj mahal heritage previously court said issues like vehicular traffic pollution taj zone industries considered preparing vision document nn \n",
      "추출 요약 : \n",
      "추상 요약 :  govt govt to be built in the the the diwali govt\n",
      "\n",
      "\n",
      "원문 : delhi commission women chairperson swati maliwal penned letter pm narendra modi urging remove union minister mj akbar post several women accused sexual harassment maliwal said think deserve minister anymore also urged pm modi help victims fight justice \n",
      "추출 요약 : \n",
      "추상 요약 :  pm modi chief on bjp leader on pm modi govt\n",
      "\n",
      "\n",
      "원문 : owner little pizza chain detroit casino hotel topped forbes list america richest self made women net worth billion followed supply company abc supply diane billion fortune love oprah winfrey worth billion \n",
      "추출 요약 : \n",
      "추상 요약 :  world richest man to be sold for for first year old\n",
      "\n",
      "\n",
      "원문 : england pacer stuart broad jokingly tagged indian cricketer yuvraj singh england cricket instagram post rounder sam curran year old hit six sixes innings hitting four second test sri lanka wednesday notably yuvraj hit broad six sixes icc world \n",
      "추출 요약 : \n",
      "추상 요약 :  ipl cricket cricket cricket cricket cricket cricket cricket cricket cricket cricket\n",
      "\n",
      "\n",
      "원문 : petrol price sunday cut paise per litre lowest level diesel price reduced paise nine month low petrol delhi costs per litre diesel litre petrol price decline since october amidst falling international oil prices rupee appreciation \n",
      "추출 요약 : \n",
      "추상 요약 :  petrol prices in in fy lowest in petrol diesel in revenue\n",
      "\n",
      "\n",
      "원문 : batsman ambati rayudu failed make six different squads named bcci duleep trophy india matches reportedly skipping yo yo test year old pulled india squad england odis june failing test later appear six week time period \n",
      "추출 요약 : \n",
      "추상 요약 :  cricket cricket cricket cricket cricket cricket cricket cricket cricket cricket cricket\n",
      "\n",
      "\n",
      "원문 : models walked saris sixty fashion designers amazon fashion week show sari sari hood gloves among unique creations vogue show dhruv kapoor showcasing sari skirt manish arora presenting colourful sari floral presented sari \n",
      "추출 요약 : \n",
      "추상 요약 :  wonder woman starrer film to be starrer film\n",
      "\n",
      "\n",
      "원문 : ex pakistan captain wasim akram said pakistan performance asia cup embarrassing see winning losing part game like boring good tv good spectators whole country disappointed akram added pakistan lost matches including twice india \n",
      "추출 요약 : \n"
     ]
    },
    {
     "name": "stdout",
     "output_type": "stream",
     "text": [
      "추상 요약 :  my cricket is the test in the the the the the\n",
      "\n",
      "\n",
      "원문 : telecom department said meet officials airtel idea vodafone hear pleas trai crore penalty trai recommended government impose penalty telcos allegedly denying sufficient interconnection points reliance jio jio complained large number calls network failed result \n",
      "추출 요약 : \n",
      "추상 요약 :  trai to be to pay on sale to pay tax to\n",
      "\n",
      "\n",
      "원문 : ex australia opener matthew hayden smashed highest test score hours minutes zimbabwe hayden faced balls hit fours sixes broke ex windies captain brian lara year old record october hayden record broken lara smashed tests april \n",
      "추출 요약 : \n",
      "추상 요약 :  ipl runs in ipl record in ipl record in ipl runs\n",
      "\n",
      "\n",
      "원문 : assam assembly passed three bills increasing monthly salary chief minister assembly speaker deputy speaker ministers mlas chief minister salary allowance hiked lakh lakh salaries mlas increased decision applicable month \n",
      "추출 요약 : \n",
      "추상 요약 :  farmers to farmers to mlas to farmers to farmers to farmers\n",
      "\n",
      "\n",
      "원문 : talking wife deepika padukone ranveer singh said could got carried away name fame grounded blockbuster year would already started dating seen deal success failure added ranveer ranveer earlier said six months relationship knew one \n",
      "추출 요약 : \n",
      "추상 요약 :  was not in film in the the the the the the\n",
      "\n",
      "\n",
      "원문 : scotland placed th odi rankings defeated top ranked england six runs one odi sunday scotland registered highest ever odi total breaking year old record highest odi total associate side match witnessed jonny bairstow become first england player hit three straight odi hundreds \n",
      "추출 요약 : \n",
      "추상 요약 :  world cup in ipl th odi odi odi test in ipl\n",
      "\n",
      "\n",
      "원문 : plane carrying russian defence minister sergei approached nato fighter jet baltic sea even though flying neutral waters according reports however nato plane chased away russian su jet minister aircraft reports added \n",
      "추출 요약 : \n",
      "추상 요약 :  us jet of us to be killed in\n",
      "\n",
      "\n",
      "원문 : class student allegedly beaten physical education commerce teacher bengaluru ryan international school student father claims teacher trying silence class got angry son response friend joke started punching brutally boy currently hospitalised injuries \n",
      "추출 요약 : \n",
      "추상 요약 :  student who was who was who found in\n",
      "\n",
      "\n",
      "원문 : benchmark index bse sensex closed mark first time tuesday breaching level morning trade rose points close nifty rose points close bharti airtel yes bank gained indices ntpc sbi coal india top losers \n",
      "추출 요약 : \n",
      "추상 요약 :  sensex in sept to reach in india first in sept to\n",
      "\n",
      "\n",
      "원문 : tree believed planted years ago wales fallen tree located along roughly following border wales england feet believed planted mark site ad battle \n",
      "추출 요약 : \n",
      "추상 요약 :  in days in years old\n",
      "\n",
      "\n",
      "원문 : punjab cabinet minister navjot singh sidhu thursday said union cabinet decision kartarpur corridor act like pakistan india welcome auspicious step union cabinet cup joy crore nanak naam added said thank govt india take bow \n",
      "추출 요약 : \n",
      "추상 요약 :  pm modi pm modi to be elected to pak pm modi\n",
      "\n",
      "\n",
      "원문 : models carried heads runway resembled operating room gucci show milan fashion week wednesday gucci collection also showed models carrying including baby wearing third eye meanwhile gucci creative director said limiting fashion something produces business easy \n",
      "추출 요약 : \n",
      "추상 요약 :  film festival\n",
      "\n",
      "\n",
      "원문 : uttar pradesh bjp chief state deputy chief minister keshav prasad maurya saturday said alleged wrongdoings samajwadi party would rectified necessary action would taken samajwadi party added maurya earlier said task force instituted investigate cases corruption last years \n",
      "추출 요약 : \n",
      "추상 요약 :  bjp cm on bjp to be in in kashmir to be\n",
      "\n",
      "\n",
      "원문 : actor rana daggubati speaking hyderabad drug racket case said bothered actors taking drugs adults worried school children taking drugs youngsters mind drugs added rana said something needs taken seriously \n",
      "추출 요약 : \n",
      "추상 요약 :  people to be found in year\n",
      "\n",
      "\n",
      "원문 : according theory say cheese taking photos saying word causes person smile victorian era people avoided smiling photographs saying children working class people usually smiled however launched camera photography made accessible paired smile ad campaigns \n",
      "추출 요약 : \n",
      "추상 요약 :  the human rights to be to be to\n",
      "\n",
      "\n",
      "원문 : adobe tuesday announced stop updating distributing flash player plug end flash technology one widely used ways watch videos play games online recent years google chrome microsoft edge safari flash favour alternative \n",
      "추출 요약 : \n",
      "추상 요약 :  earthquakes to be to be to be to be to be\n",
      "\n",
      "\n",
      "원문 : uk based scientists developing camera track medical tools inserted patient detect light sources inside body illuminated tip generally tracked using rays expensive methods prototype demonstrated point source light approximately cm thick tissue normal lighting conditions \n",
      "추출 요약 : \n",
      "추상 요약 :  scientists make to be auctioned for\n",
      "\n",
      "\n",
      "원문 : actor rajkummar rao seen holding evm machine running away new poster upcoming film newton poster captioned aadmi directed amit film revolves around government clerk election duty naxal controlled town scheduled release august \n",
      "추출 요약 : \n",
      "추상 요약 :  rajkummar on padmavati in tamil film to be in in gujarat\n",
      "\n",
      "\n",
      "원문 : mural artists fifa world cup venue city painted brazilian forward neymar portrait wall behind team hotel comes ahead quarter final match belgium brazil friday become third footballer lionel messi cristiano ronaldo get mural \n",
      "추출 요약 : \n",
      "추상 요약 :  world cup on wc final in wc ship in wc match\n",
      "\n",
      "\n",
      "원문 : aircraft manufacturer airbus shared video shows users able hail project self flying taxis shows computer generated figure using app request flight california taxi reaches nearby airport vertical take landing aircraft video minute ride costs \n",
      "추출 요약 : \n",
      "추상 요약 :  startup to be sold for for air air india flight to\n",
      "\n",
      "\n",
      "원문 : cpi lost tripura assembly elections first time years congress leader jairam ramesh said demise left disaster india left change mind people aspirations society also changing added kerala state governed cpi \n",
      "추출 요약 : \n",
      "추상 요약 :  women will be in day in yrs in yrs old women\n",
      "\n",
      "\n",
      "원문 : india per capita income average income earned per person grew last fiscal slowest pace six years nominal terms per capita income stood compared government data showed per capita income real terms fiscal grew \n",
      "추출 요약 : \n",
      "추상 요약 :  in days in days in days in days in days in\n",
      "\n",
      "\n",
      "원문 : jury georgia us ordered security company pay billion damages woman raped employee teen lawyers representing victim raped claimed largest jury verdict awarded sexual assault case us \n",
      "추출 요약 : \n",
      "추상 요약 :  man to get fake body to police to get rape in\n",
      "\n",
      "\n",
      "원문 : days external pressure youtube banned neo nazi channel called citing multiple severe violations youtube policy prohibiting hate speech linked five murders including gay jewish student group recruited around people across states one sentenced five years prison bomb making materials \n",
      "추출 요약 : \n",
      "추상 요약 :  us to be called to be in us parliament\n",
      "\n",
      "\n"
     ]
    }
   ],
   "source": [
    "for i in range(50, 100):\n",
    "    sample_text = seq2text(encoder_input_test[i])\n",
    "    print(\"원문 :\", sample_text)\n",
    "    print(\"추출 요약 :\", summarize(sample_text, ratio=0.5))\n",
    "    print(\"추상 요약 :\", decode_sequence(encoder_input_test[i].reshape(1, text_cut)))\n",
    "    print(\"\\n\")"
   ]
  },
  {
   "cell_type": "code",
   "execution_count": null,
   "metadata": {
    "id": "ZMiv7pc9zrDM"
   },
   "outputs": [],
   "source": []
  },
  {
   "cell_type": "code",
   "execution_count": null,
   "metadata": {
    "id": "6oqYaAtwzrHD"
   },
   "outputs": [],
   "source": []
  },
  {
   "cell_type": "code",
   "execution_count": null,
   "metadata": {
    "id": "aZt7VGofziND"
   },
   "outputs": [],
   "source": []
  },
  {
   "cell_type": "code",
   "execution_count": null,
   "metadata": {
    "id": "tZCPZOzazBKm"
   },
   "outputs": [],
   "source": []
  },
  {
   "cell_type": "code",
   "execution_count": null,
   "metadata": {
    "id": "qzbj8WatzBNd"
   },
   "outputs": [],
   "source": []
  }
 ],
 "metadata": {
  "accelerator": "GPU",
  "colab": {
   "gpuType": "T4",
   "provenance": []
  },
  "kernelspec": {
   "display_name": "Python 3 (ipykernel)",
   "language": "python",
   "name": "python3"
  },
  "language_info": {
   "codemirror_mode": {
    "name": "ipython",
    "version": 3
   },
   "file_extension": ".py",
   "mimetype": "text/x-python",
   "name": "python",
   "nbconvert_exporter": "python",
   "pygments_lexer": "ipython3",
   "version": "3.9.7"
  }
 },
 "nbformat": 4,
 "nbformat_minor": 1
}
